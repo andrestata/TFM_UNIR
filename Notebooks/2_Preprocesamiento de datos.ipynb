{
 "cells": [
  {
   "cell_type": "markdown",
   "id": "11a29851",
   "metadata": {},
   "source": [
    "# Preprocesamiento de datos"
   ]
  },
  {
   "cell_type": "markdown",
   "id": "631322c4",
   "metadata": {},
   "source": [
    "Importar las bibliotecas necesarias:"
   ]
  },
  {
   "cell_type": "code",
   "execution_count": 82,
   "id": "64963f95",
   "metadata": {
    "ExecuteTime": {
     "end_time": "2023-06-22T05:09:33.519074Z",
     "start_time": "2023-06-22T05:09:33.509075Z"
    }
   },
   "outputs": [
    {
     "data": {
      "text/html": [
       "<style>.container { width:100% !important; }</style>"
      ],
      "text/plain": [
       "<IPython.core.display.HTML object>"
      ]
     },
     "metadata": {},
     "output_type": "display_data"
    }
   ],
   "source": [
    "import pandas as pd\n",
    "import matplotlib.pyplot as plt\n",
    "import seaborn as sns\n",
    "import pymongo\n",
    "from tabulate import tabulate\n",
    "from sklearn.preprocessing import LabelEncoder\n",
    "from sklearn.preprocessing import MinMaxScaler\n",
    "from tensorflow.keras.models import Sequential\n",
    "from tensorflow.keras.layers import LSTM, Dense, Dropout\n",
    "from tensorflow.keras.utils import plot_model\n",
    "from tensorflow.keras.optimizers import Adam\n",
    "import random\n",
    "\n",
    "from IPython.core.display import display, HTML\n",
    "display(HTML(\"<style>.container { width:100% !important; }</style>\"))"
   ]
  },
  {
   "cell_type": "markdown",
   "id": "0d634123",
   "metadata": {},
   "source": [
    "Leer y cargar el conjunto de datos:"
   ]
  },
  {
   "cell_type": "code",
   "execution_count": 2,
   "id": "9bb08f2f",
   "metadata": {
    "ExecuteTime": {
     "end_time": "2023-06-22T03:32:49.383253Z",
     "start_time": "2023-06-22T03:32:35.788881Z"
    }
   },
   "outputs": [
    {
     "name": "stdout",
     "output_type": "stream",
     "text": [
      "<bound method MongoClient.start_session of MongoClient(host=['localhost:27017'], document_class=dict, tz_aware=False, connect=True, serverselectiontimeoutms=5000)>\n"
     ]
    }
   ],
   "source": [
    "client = pymongo.MongoClient('mongodb://localhost:27017/', serverSelectionTimeoutMS=5000)\n",
    "\n",
    "try:   \n",
    "    print(client.start_session)\n",
    "    dbSiedco = client.siedco\n",
    "    dfDelitos = pd.DataFrame(list(dbSiedco.DelitosPrepro.find()))\n",
    "\n",
    "    \n",
    "except Exception:\n",
    "    print(\"Unable to connect to the server.\")"
   ]
  },
  {
   "cell_type": "code",
   "execution_count": 3,
   "id": "eeab25b9",
   "metadata": {
    "ExecuteTime": {
     "end_time": "2023-06-22T03:32:53.646324Z",
     "start_time": "2023-06-22T03:32:50.565325Z"
    }
   },
   "outputs": [],
   "source": [
    "dfDelitosNew = dfDelitos.copy()\n",
    "# Eliminar columnas\n",
    "dfDelitosNew.drop(['_id'], axis=1, inplace=True)\n",
    "# Cambiamos los tipos de datos de los atributos\n",
    "dfDelitosNew['Anio'] = dfDelitosNew['Anio'].astype(int)\n",
    "dfDelitosNew['Mes'] = dfDelitosNew['Mes'].astype(int)\n",
    "dfDelitosNew['Dia'] = dfDelitosNew['Dia'].astype(int)\n",
    "dfDelitosNew['Rango_Dia'] = dfDelitosNew['Rango_Dia'].astype('category')\n",
    "dfDelitosNew['Localidad'] = dfDelitosNew['Localidad'].astype('category')\n",
    "dfDelitosNew['UPZ'] = dfDelitosNew['UPZ'].astype('category')\n",
    "dfDelitosNew['Sexo'] = dfDelitosNew['Sexo'].astype('category')\n",
    "dfDelitosNew['Delito'] = dfDelitosNew['Delito'].astype('category')\n",
    "dfDelitosNew['Modalidad'] = dfDelitosNew['Modalidad'].astype('category')\n",
    "dfDelitosNew['Arma_Empleada'] = dfDelitosNew['Arma_Empleada'].astype('category')\n",
    "dfDelitosNew['Numero_Hechos'] = dfDelitosNew['Numero_Hechos'].astype(int)\n"
   ]
  },
  {
   "cell_type": "markdown",
   "id": "eb78dadf",
   "metadata": {},
   "source": [
    "# Tecnica One-hot"
   ]
  },
  {
   "cell_type": "code",
   "execution_count": 4,
   "id": "1b034725",
   "metadata": {
    "ExecuteTime": {
     "end_time": "2023-06-22T03:32:56.439255Z",
     "start_time": "2023-06-22T03:32:56.422256Z"
    }
   },
   "outputs": [],
   "source": [
    "most_frequent = dfDelitosNew['Sexo'].value_counts().idxmax()\n",
    "dfDelitosNew['Sexo'] = dfDelitosNew['Sexo'].replace('NO REPORTADO', most_frequent)"
   ]
  },
  {
   "cell_type": "code",
   "execution_count": 5,
   "id": "b737b94c",
   "metadata": {
    "ExecuteTime": {
     "end_time": "2023-06-22T03:32:58.302309Z",
     "start_time": "2023-06-22T03:32:58.286311Z"
    }
   },
   "outputs": [
    {
     "name": "stdout",
     "output_type": "stream",
     "text": [
      "Sexo\n",
      "---------\n",
      "MASCULINO\n",
      "FEMENINO\n"
     ]
    }
   ],
   "source": [
    "datos_unicos = dfDelitosNew[\"Sexo\"].unique()\n",
    "tabla_datos = [{\"Sexo\": dato} for dato in datos_unicos]\n",
    "\n",
    "tabla_formato = tabulate(tabla_datos, headers='keys', tablefmt='simple')\n",
    "\n",
    "print(tabla_formato)"
   ]
  },
  {
   "cell_type": "markdown",
   "id": "5872aae0",
   "metadata": {},
   "source": [
    "## Se aplica one-hot a las variables que tienen menor numero de categorias"
   ]
  },
  {
   "cell_type": "code",
   "execution_count": 6,
   "id": "d0e220b7",
   "metadata": {
    "ExecuteTime": {
     "end_time": "2023-06-22T03:33:00.635047Z",
     "start_time": "2023-06-22T03:33:00.382048Z"
    }
   },
   "outputs": [],
   "source": [
    "# 'Sexo'\n",
    "dfDelitosNew = pd.get_dummies(dfDelitosNew, columns=['Sexo'])\n",
    "# 'Rango_Dia'\n",
    "dfDelitosNew = pd.get_dummies(dfDelitosNew, columns=['Rango_Dia'])"
   ]
  },
  {
   "cell_type": "code",
   "execution_count": 7,
   "id": "742a8079",
   "metadata": {
    "ExecuteTime": {
     "end_time": "2023-06-22T03:33:01.523196Z",
     "start_time": "2023-06-22T03:33:01.487261Z"
    }
   },
   "outputs": [
    {
     "data": {
      "text/html": [
       "<div>\n",
       "<style scoped>\n",
       "    .dataframe tbody tr th:only-of-type {\n",
       "        vertical-align: middle;\n",
       "    }\n",
       "\n",
       "    .dataframe tbody tr th {\n",
       "        vertical-align: top;\n",
       "    }\n",
       "\n",
       "    .dataframe thead th {\n",
       "        text-align: right;\n",
       "    }\n",
       "</style>\n",
       "<table border=\"1\" class=\"dataframe\">\n",
       "  <thead>\n",
       "    <tr style=\"text-align: right;\">\n",
       "      <th></th>\n",
       "      <th>Sexo_FEMENINO</th>\n",
       "      <th>Sexo_MASCULINO</th>\n",
       "      <th>Rango_Dia_MADRUGADA</th>\n",
       "      <th>Rango_Dia_MAÑANA</th>\n",
       "      <th>Rango_Dia_NOCHE</th>\n",
       "      <th>Rango_Dia_TARDE</th>\n",
       "    </tr>\n",
       "  </thead>\n",
       "  <tbody>\n",
       "    <tr>\n",
       "      <th>0</th>\n",
       "      <td>0</td>\n",
       "      <td>1</td>\n",
       "      <td>1</td>\n",
       "      <td>0</td>\n",
       "      <td>0</td>\n",
       "      <td>0</td>\n",
       "    </tr>\n",
       "    <tr>\n",
       "      <th>1</th>\n",
       "      <td>1</td>\n",
       "      <td>0</td>\n",
       "      <td>1</td>\n",
       "      <td>0</td>\n",
       "      <td>0</td>\n",
       "      <td>0</td>\n",
       "    </tr>\n",
       "    <tr>\n",
       "      <th>2</th>\n",
       "      <td>0</td>\n",
       "      <td>1</td>\n",
       "      <td>1</td>\n",
       "      <td>0</td>\n",
       "      <td>0</td>\n",
       "      <td>0</td>\n",
       "    </tr>\n",
       "    <tr>\n",
       "      <th>3</th>\n",
       "      <td>1</td>\n",
       "      <td>0</td>\n",
       "      <td>1</td>\n",
       "      <td>0</td>\n",
       "      <td>0</td>\n",
       "      <td>0</td>\n",
       "    </tr>\n",
       "    <tr>\n",
       "      <th>4</th>\n",
       "      <td>1</td>\n",
       "      <td>0</td>\n",
       "      <td>1</td>\n",
       "      <td>0</td>\n",
       "      <td>0</td>\n",
       "      <td>0</td>\n",
       "    </tr>\n",
       "  </tbody>\n",
       "</table>\n",
       "</div>"
      ],
      "text/plain": [
       "   Sexo_FEMENINO  Sexo_MASCULINO  Rango_Dia_MADRUGADA  Rango_Dia_MAÑANA  \\\n",
       "0              0               1                    1                 0   \n",
       "1              1               0                    1                 0   \n",
       "2              0               1                    1                 0   \n",
       "3              1               0                    1                 0   \n",
       "4              1               0                    1                 0   \n",
       "\n",
       "   Rango_Dia_NOCHE  Rango_Dia_TARDE  \n",
       "0                0                0  \n",
       "1                0                0  \n",
       "2                0                0  \n",
       "3                0                0  \n",
       "4                0                0  "
      ]
     },
     "execution_count": 7,
     "metadata": {},
     "output_type": "execute_result"
    }
   ],
   "source": [
    "dfDelitosNew[['Sexo_FEMENINO', 'Sexo_MASCULINO','Rango_Dia_MADRUGADA','Rango_Dia_MAÑANA','Rango_Dia_NOCHE','Rango_Dia_TARDE']].head()"
   ]
  },
  {
   "cell_type": "markdown",
   "id": "cb5b9528",
   "metadata": {},
   "source": [
    "# Codificación de frecuencias"
   ]
  },
  {
   "cell_type": "markdown",
   "id": "2a0a0eac",
   "metadata": {},
   "source": [
    "UPZ       \t\tcategory --> 125\n",
    "Modalidad \t\tcategory --> 129"
   ]
  },
  {
   "cell_type": "code",
   "execution_count": 8,
   "id": "eb128b0d",
   "metadata": {
    "ExecuteTime": {
     "end_time": "2023-06-22T03:33:04.768357Z",
     "start_time": "2023-06-22T03:33:04.728357Z"
    }
   },
   "outputs": [],
   "source": [
    "# Calcular las frecuencias de las categorías en las variables 'UPZ' y 'Modalidad'\n",
    "upz_freq = dfDelitosNew['UPZ'].value_counts(normalize=True)\n",
    "modalidad_freq = dfDelitosNew['Modalidad'].value_counts(normalize=True)\n",
    "\n",
    "# Aplicar la codificación de frecuencias a las variables 'UPZ' y 'Modalidad'\n",
    "dfDelitosNew['UPZ'] = dfDelitosNew['UPZ'].map(upz_freq)\n",
    "dfDelitosNew['Modalidad'] = dfDelitosNew['Modalidad'].map(modalidad_freq)"
   ]
  },
  {
   "cell_type": "code",
   "execution_count": 9,
   "id": "83f5bf60",
   "metadata": {
    "ExecuteTime": {
     "end_time": "2023-06-22T03:33:05.734705Z",
     "start_time": "2023-06-22T03:33:05.702706Z"
    }
   },
   "outputs": [
    {
     "data": {
      "text/html": [
       "<div>\n",
       "<style scoped>\n",
       "    .dataframe tbody tr th:only-of-type {\n",
       "        vertical-align: middle;\n",
       "    }\n",
       "\n",
       "    .dataframe tbody tr th {\n",
       "        vertical-align: top;\n",
       "    }\n",
       "\n",
       "    .dataframe thead th {\n",
       "        text-align: right;\n",
       "    }\n",
       "</style>\n",
       "<table border=\"1\" class=\"dataframe\">\n",
       "  <thead>\n",
       "    <tr style=\"text-align: right;\">\n",
       "      <th></th>\n",
       "      <th>UPZ</th>\n",
       "      <th>Modalidad</th>\n",
       "    </tr>\n",
       "  </thead>\n",
       "  <tbody>\n",
       "    <tr>\n",
       "      <th>0</th>\n",
       "      <td>0.013821</td>\n",
       "      <td>0.174212</td>\n",
       "    </tr>\n",
       "    <tr>\n",
       "      <th>1</th>\n",
       "      <td>0.005402</td>\n",
       "      <td>0.141828</td>\n",
       "    </tr>\n",
       "    <tr>\n",
       "      <th>2</th>\n",
       "      <td>0.005402</td>\n",
       "      <td>0.141828</td>\n",
       "    </tr>\n",
       "    <tr>\n",
       "      <th>3</th>\n",
       "      <td>0.013729</td>\n",
       "      <td>0.017777</td>\n",
       "    </tr>\n",
       "    <tr>\n",
       "      <th>4</th>\n",
       "      <td>0.006923</td>\n",
       "      <td>0.141828</td>\n",
       "    </tr>\n",
       "  </tbody>\n",
       "</table>\n",
       "</div>"
      ],
      "text/plain": [
       "        UPZ  Modalidad\n",
       "0  0.013821   0.174212\n",
       "1  0.005402   0.141828\n",
       "2  0.005402   0.141828\n",
       "3  0.013729   0.017777\n",
       "4  0.006923   0.141828"
      ]
     },
     "execution_count": 9,
     "metadata": {},
     "output_type": "execute_result"
    }
   ],
   "source": [
    "dfDelitosNew[['UPZ', 'Modalidad']].head()"
   ]
  },
  {
   "cell_type": "code",
   "execution_count": 10,
   "id": "9bb03b87",
   "metadata": {
    "ExecuteTime": {
     "end_time": "2023-06-22T03:33:07.008265Z",
     "start_time": "2023-06-22T03:33:06.934268Z"
    }
   },
   "outputs": [
    {
     "data": {
      "text/html": [
       "<div>\n",
       "<style scoped>\n",
       "    .dataframe tbody tr th:only-of-type {\n",
       "        vertical-align: middle;\n",
       "    }\n",
       "\n",
       "    .dataframe tbody tr th {\n",
       "        vertical-align: top;\n",
       "    }\n",
       "\n",
       "    .dataframe thead th {\n",
       "        text-align: right;\n",
       "    }\n",
       "</style>\n",
       "<table border=\"1\" class=\"dataframe\">\n",
       "  <thead>\n",
       "    <tr style=\"text-align: right;\">\n",
       "      <th></th>\n",
       "      <th>UPZ</th>\n",
       "      <th>Modalidad</th>\n",
       "    </tr>\n",
       "  </thead>\n",
       "  <tbody>\n",
       "    <tr>\n",
       "      <th>count</th>\n",
       "      <td>1.090440e+06</td>\n",
       "      <td>1.090440e+06</td>\n",
       "    </tr>\n",
       "    <tr>\n",
       "      <th>mean</th>\n",
       "      <td>1.252933e-02</td>\n",
       "      <td>1.482498e-01</td>\n",
       "    </tr>\n",
       "    <tr>\n",
       "      <th>std</th>\n",
       "      <td>6.464144e-03</td>\n",
       "      <td>9.078152e-02</td>\n",
       "    </tr>\n",
       "    <tr>\n",
       "      <th>min</th>\n",
       "      <td>3.301420e-05</td>\n",
       "      <td>9.170610e-07</td>\n",
       "    </tr>\n",
       "    <tr>\n",
       "      <th>25%</th>\n",
       "      <td>7.542827e-03</td>\n",
       "      <td>8.069128e-02</td>\n",
       "    </tr>\n",
       "    <tr>\n",
       "      <th>50%</th>\n",
       "      <td>1.139448e-02</td>\n",
       "      <td>1.418281e-01</td>\n",
       "    </tr>\n",
       "    <tr>\n",
       "      <th>75%</th>\n",
       "      <td>1.605957e-02</td>\n",
       "      <td>2.721296e-01</td>\n",
       "    </tr>\n",
       "    <tr>\n",
       "      <th>max</th>\n",
       "      <td>2.743480e-02</td>\n",
       "      <td>2.721296e-01</td>\n",
       "    </tr>\n",
       "  </tbody>\n",
       "</table>\n",
       "</div>"
      ],
      "text/plain": [
       "                UPZ     Modalidad\n",
       "count  1.090440e+06  1.090440e+06\n",
       "mean   1.252933e-02  1.482498e-01\n",
       "std    6.464144e-03  9.078152e-02\n",
       "min    3.301420e-05  9.170610e-07\n",
       "25%    7.542827e-03  8.069128e-02\n",
       "50%    1.139448e-02  1.418281e-01\n",
       "75%    1.605957e-02  2.721296e-01\n",
       "max    2.743480e-02  2.721296e-01"
      ]
     },
     "execution_count": 10,
     "metadata": {},
     "output_type": "execute_result"
    }
   ],
   "source": [
    "dfDelitosNew[['UPZ', 'Modalidad']].describe()"
   ]
  },
  {
   "cell_type": "markdown",
   "id": "60da82ca",
   "metadata": {},
   "source": [
    "# Codificación de enteros"
   ]
  },
  {
   "cell_type": "code",
   "execution_count": 11,
   "id": "25fa1784",
   "metadata": {
    "ExecuteTime": {
     "end_time": "2023-06-22T03:33:09.722566Z",
     "start_time": "2023-06-22T03:33:09.535253Z"
    }
   },
   "outputs": [
    {
     "name": "stdout",
     "output_type": "stream",
     "text": [
      "AMENAZAS: 0\n",
      "DELITOS SEXUALES: 1\n",
      "EXTORSION: 2\n",
      "HOMICIDIOS: 3\n",
      "HOMICIDIOS EN ACCIDENTES DE TRANSITO: 4\n",
      "HURTO A COMERCIO: 5\n",
      "HURTO A ENTIDADES FINANCIERAS: 6\n",
      "HURTO A PERSONAS: 7\n",
      "HURTO A RESIDENCIAS: 8\n",
      "HURTO ABIGEATO: 9\n",
      "HURTO AUTOMOTORES: 10\n",
      "HURTO DE BICICLETAS: 11\n",
      "HURTO DE CELULARES: 12\n",
      "HURTO MOTOCICLETAS: 13\n",
      "HURTO PIRATERIA TERRESTRE: 14\n",
      "LESIONES EN ACCIDENTES DE TRANSITO: 15\n",
      "LESIONES PERSONALES: 16\n",
      "SECUESTRO: 17\n",
      "TERRORISMO: 18\n",
      "VIOLENCIA INTRAFAMILIAR: 19\n"
     ]
    }
   ],
   "source": [
    "# Crear un objeto LabelEncoder\n",
    "le_delito = LabelEncoder()\n",
    "\n",
    "# Hacer una copia del DataFrame original\n",
    "dfDelitosNew_copy = dfDelitosNew.copy()\n",
    "\n",
    "# Aplicar la codificación de enteros a la variable 'Delito' en la copia del DataFrame\n",
    "dfDelitosNew_copy['Delito'] = le_delito.fit_transform(dfDelitosNew_copy['Delito'])\n",
    "\n",
    "# Mostrar las etiquetas originales y las codificaciones correspondientes\n",
    "for i, clase in enumerate(le_delito.classes_):\n",
    "    print(f\"{clase}: {i}\")"
   ]
  },
  {
   "cell_type": "code",
   "execution_count": 12,
   "id": "9c1b9507",
   "metadata": {
    "ExecuteTime": {
     "end_time": "2023-06-22T03:33:11.244354Z",
     "start_time": "2023-06-22T03:33:10.767354Z"
    }
   },
   "outputs": [],
   "source": [
    "# Crear un objeto LabelEncoder\n",
    "le_localidad = LabelEncoder()\n",
    "dfDelitosNew['Localidad'] = le_localidad.fit_transform(dfDelitosNew['Localidad'])\n",
    "\n",
    "le_delito = LabelEncoder()\n",
    "dfDelitosNew['Delito'] = le_delito.fit_transform(dfDelitosNew['Delito'])\n",
    "\n",
    "le_arma = LabelEncoder()\n",
    "dfDelitosNew['Arma_Empleada'] = le_arma.fit_transform(dfDelitosNew['Arma_Empleada'])"
   ]
  },
  {
   "cell_type": "code",
   "execution_count": 13,
   "id": "ed095aba",
   "metadata": {
    "ExecuteTime": {
     "end_time": "2023-06-22T03:33:11.915304Z",
     "start_time": "2023-06-22T03:33:11.887303Z"
    }
   },
   "outputs": [
    {
     "data": {
      "text/html": [
       "<div>\n",
       "<style scoped>\n",
       "    .dataframe tbody tr th:only-of-type {\n",
       "        vertical-align: middle;\n",
       "    }\n",
       "\n",
       "    .dataframe tbody tr th {\n",
       "        vertical-align: top;\n",
       "    }\n",
       "\n",
       "    .dataframe thead th {\n",
       "        text-align: right;\n",
       "    }\n",
       "</style>\n",
       "<table border=\"1\" class=\"dataframe\">\n",
       "  <thead>\n",
       "    <tr style=\"text-align: right;\">\n",
       "      <th></th>\n",
       "      <th>Localidad</th>\n",
       "      <th>Delito</th>\n",
       "      <th>Arma_Empleada</th>\n",
       "    </tr>\n",
       "  </thead>\n",
       "  <tbody>\n",
       "    <tr>\n",
       "      <th>0</th>\n",
       "      <td>0</td>\n",
       "      <td>7</td>\n",
       "      <td>37</td>\n",
       "    </tr>\n",
       "    <tr>\n",
       "      <th>1</th>\n",
       "      <td>0</td>\n",
       "      <td>19</td>\n",
       "      <td>28</td>\n",
       "    </tr>\n",
       "    <tr>\n",
       "      <th>2</th>\n",
       "      <td>0</td>\n",
       "      <td>19</td>\n",
       "      <td>28</td>\n",
       "    </tr>\n",
       "    <tr>\n",
       "      <th>3</th>\n",
       "      <td>0</td>\n",
       "      <td>8</td>\n",
       "      <td>37</td>\n",
       "    </tr>\n",
       "    <tr>\n",
       "      <th>4</th>\n",
       "      <td>0</td>\n",
       "      <td>19</td>\n",
       "      <td>28</td>\n",
       "    </tr>\n",
       "    <tr>\n",
       "      <th>...</th>\n",
       "      <td>...</td>\n",
       "      <td>...</td>\n",
       "      <td>...</td>\n",
       "    </tr>\n",
       "    <tr>\n",
       "      <th>1090435</th>\n",
       "      <td>15</td>\n",
       "      <td>1</td>\n",
       "      <td>37</td>\n",
       "    </tr>\n",
       "    <tr>\n",
       "      <th>1090436</th>\n",
       "      <td>17</td>\n",
       "      <td>7</td>\n",
       "      <td>28</td>\n",
       "    </tr>\n",
       "    <tr>\n",
       "      <th>1090437</th>\n",
       "      <td>17</td>\n",
       "      <td>13</td>\n",
       "      <td>22</td>\n",
       "    </tr>\n",
       "    <tr>\n",
       "      <th>1090438</th>\n",
       "      <td>18</td>\n",
       "      <td>10</td>\n",
       "      <td>22</td>\n",
       "    </tr>\n",
       "    <tr>\n",
       "      <th>1090439</th>\n",
       "      <td>18</td>\n",
       "      <td>3</td>\n",
       "      <td>15</td>\n",
       "    </tr>\n",
       "  </tbody>\n",
       "</table>\n",
       "<p>1090440 rows × 3 columns</p>\n",
       "</div>"
      ],
      "text/plain": [
       "         Localidad  Delito  Arma_Empleada\n",
       "0                0       7             37\n",
       "1                0      19             28\n",
       "2                0      19             28\n",
       "3                0       8             37\n",
       "4                0      19             28\n",
       "...            ...     ...            ...\n",
       "1090435         15       1             37\n",
       "1090436         17       7             28\n",
       "1090437         17      13             22\n",
       "1090438         18      10             22\n",
       "1090439         18       3             15\n",
       "\n",
       "[1090440 rows x 3 columns]"
      ]
     },
     "execution_count": 13,
     "metadata": {},
     "output_type": "execute_result"
    }
   ],
   "source": [
    "dfDelitosNew[['Localidad', 'Delito', 'Arma_Empleada']]"
   ]
  },
  {
   "cell_type": "markdown",
   "id": "6d425ee5",
   "metadata": {},
   "source": [
    "# Normalización de Datos"
   ]
  },
  {
   "cell_type": "code",
   "execution_count": 14,
   "id": "8c83fb4a",
   "metadata": {
    "ExecuteTime": {
     "end_time": "2023-06-22T03:33:14.133236Z",
     "start_time": "2023-06-22T03:33:14.071235Z"
    }
   },
   "outputs": [
    {
     "data": {
      "text/html": [
       "<div>\n",
       "<style scoped>\n",
       "    .dataframe tbody tr th:only-of-type {\n",
       "        vertical-align: middle;\n",
       "    }\n",
       "\n",
       "    .dataframe tbody tr th {\n",
       "        vertical-align: top;\n",
       "    }\n",
       "\n",
       "    .dataframe thead th {\n",
       "        text-align: right;\n",
       "    }\n",
       "</style>\n",
       "<table border=\"1\" class=\"dataframe\">\n",
       "  <thead>\n",
       "    <tr style=\"text-align: right;\">\n",
       "      <th></th>\n",
       "      <th>Anio</th>\n",
       "      <th>Mes</th>\n",
       "      <th>Dia</th>\n",
       "    </tr>\n",
       "  </thead>\n",
       "  <tbody>\n",
       "    <tr>\n",
       "      <th>count</th>\n",
       "      <td>1.090440e+06</td>\n",
       "      <td>1.090440e+06</td>\n",
       "      <td>1.090440e+06</td>\n",
       "    </tr>\n",
       "    <tr>\n",
       "      <th>mean</th>\n",
       "      <td>2.020632e+03</td>\n",
       "      <td>6.488083e+00</td>\n",
       "      <td>1.563704e+01</td>\n",
       "    </tr>\n",
       "    <tr>\n",
       "      <th>std</th>\n",
       "      <td>1.222606e+00</td>\n",
       "      <td>3.546302e+00</td>\n",
       "      <td>8.825201e+00</td>\n",
       "    </tr>\n",
       "    <tr>\n",
       "      <th>min</th>\n",
       "      <td>2.019000e+03</td>\n",
       "      <td>1.000000e+00</td>\n",
       "      <td>1.000000e+00</td>\n",
       "    </tr>\n",
       "    <tr>\n",
       "      <th>25%</th>\n",
       "      <td>2.019000e+03</td>\n",
       "      <td>3.000000e+00</td>\n",
       "      <td>8.000000e+00</td>\n",
       "    </tr>\n",
       "    <tr>\n",
       "      <th>50%</th>\n",
       "      <td>2.021000e+03</td>\n",
       "      <td>7.000000e+00</td>\n",
       "      <td>1.600000e+01</td>\n",
       "    </tr>\n",
       "    <tr>\n",
       "      <th>75%</th>\n",
       "      <td>2.022000e+03</td>\n",
       "      <td>1.000000e+01</td>\n",
       "      <td>2.300000e+01</td>\n",
       "    </tr>\n",
       "    <tr>\n",
       "      <th>max</th>\n",
       "      <td>2.023000e+03</td>\n",
       "      <td>1.200000e+01</td>\n",
       "      <td>3.100000e+01</td>\n",
       "    </tr>\n",
       "  </tbody>\n",
       "</table>\n",
       "</div>"
      ],
      "text/plain": [
       "               Anio           Mes           Dia\n",
       "count  1.090440e+06  1.090440e+06  1.090440e+06\n",
       "mean   2.020632e+03  6.488083e+00  1.563704e+01\n",
       "std    1.222606e+00  3.546302e+00  8.825201e+00\n",
       "min    2.019000e+03  1.000000e+00  1.000000e+00\n",
       "25%    2.019000e+03  3.000000e+00  8.000000e+00\n",
       "50%    2.021000e+03  7.000000e+00  1.600000e+01\n",
       "75%    2.022000e+03  1.000000e+01  2.300000e+01\n",
       "max    2.023000e+03  1.200000e+01  3.100000e+01"
      ]
     },
     "execution_count": 14,
     "metadata": {},
     "output_type": "execute_result"
    }
   ],
   "source": [
    "dfDelitosNew[['Anio', 'Mes', 'Dia']].describe()"
   ]
  },
  {
   "cell_type": "code",
   "execution_count": 15,
   "id": "3ab42161",
   "metadata": {
    "ExecuteTime": {
     "end_time": "2023-06-22T03:33:15.271289Z",
     "start_time": "2023-06-22T03:33:15.199291Z"
    }
   },
   "outputs": [],
   "source": [
    "# Crear una instancia de la clase MinMaxScaler\n",
    "scaler = MinMaxScaler()\n",
    "\n",
    "# Ajustar el escalador a las columnas que deseas normalizar y transformarlas\n",
    "dfDelitosNew[['Anio', 'Mes', 'Dia']] = scaler.fit_transform(dfDelitosNew[['Anio', 'Mes', 'Dia']])"
   ]
  },
  {
   "cell_type": "code",
   "execution_count": 16,
   "id": "9a63fbdd",
   "metadata": {
    "ExecuteTime": {
     "end_time": "2023-06-22T03:33:16.434623Z",
     "start_time": "2023-06-22T03:33:16.343624Z"
    }
   },
   "outputs": [
    {
     "data": {
      "text/html": [
       "<div>\n",
       "<style scoped>\n",
       "    .dataframe tbody tr th:only-of-type {\n",
       "        vertical-align: middle;\n",
       "    }\n",
       "\n",
       "    .dataframe tbody tr th {\n",
       "        vertical-align: top;\n",
       "    }\n",
       "\n",
       "    .dataframe thead th {\n",
       "        text-align: right;\n",
       "    }\n",
       "</style>\n",
       "<table border=\"1\" class=\"dataframe\">\n",
       "  <thead>\n",
       "    <tr style=\"text-align: right;\">\n",
       "      <th></th>\n",
       "      <th>Anio</th>\n",
       "      <th>Mes</th>\n",
       "      <th>Dia</th>\n",
       "    </tr>\n",
       "  </thead>\n",
       "  <tbody>\n",
       "    <tr>\n",
       "      <th>count</th>\n",
       "      <td>1.090440e+06</td>\n",
       "      <td>1.090440e+06</td>\n",
       "      <td>1.090440e+06</td>\n",
       "    </tr>\n",
       "    <tr>\n",
       "      <th>mean</th>\n",
       "      <td>4.080417e-01</td>\n",
       "      <td>4.989166e-01</td>\n",
       "      <td>4.879014e-01</td>\n",
       "    </tr>\n",
       "    <tr>\n",
       "      <th>std</th>\n",
       "      <td>3.056515e-01</td>\n",
       "      <td>3.223911e-01</td>\n",
       "      <td>2.941734e-01</td>\n",
       "    </tr>\n",
       "    <tr>\n",
       "      <th>min</th>\n",
       "      <td>0.000000e+00</td>\n",
       "      <td>0.000000e+00</td>\n",
       "      <td>0.000000e+00</td>\n",
       "    </tr>\n",
       "    <tr>\n",
       "      <th>25%</th>\n",
       "      <td>0.000000e+00</td>\n",
       "      <td>1.818182e-01</td>\n",
       "      <td>2.333333e-01</td>\n",
       "    </tr>\n",
       "    <tr>\n",
       "      <th>50%</th>\n",
       "      <td>5.000000e-01</td>\n",
       "      <td>5.454545e-01</td>\n",
       "      <td>5.000000e-01</td>\n",
       "    </tr>\n",
       "    <tr>\n",
       "      <th>75%</th>\n",
       "      <td>7.500000e-01</td>\n",
       "      <td>8.181818e-01</td>\n",
       "      <td>7.333333e-01</td>\n",
       "    </tr>\n",
       "    <tr>\n",
       "      <th>max</th>\n",
       "      <td>1.000000e+00</td>\n",
       "      <td>1.000000e+00</td>\n",
       "      <td>1.000000e+00</td>\n",
       "    </tr>\n",
       "  </tbody>\n",
       "</table>\n",
       "</div>"
      ],
      "text/plain": [
       "               Anio           Mes           Dia\n",
       "count  1.090440e+06  1.090440e+06  1.090440e+06\n",
       "mean   4.080417e-01  4.989166e-01  4.879014e-01\n",
       "std    3.056515e-01  3.223911e-01  2.941734e-01\n",
       "min    0.000000e+00  0.000000e+00  0.000000e+00\n",
       "25%    0.000000e+00  1.818182e-01  2.333333e-01\n",
       "50%    5.000000e-01  5.454545e-01  5.000000e-01\n",
       "75%    7.500000e-01  8.181818e-01  7.333333e-01\n",
       "max    1.000000e+00  1.000000e+00  1.000000e+00"
      ]
     },
     "execution_count": 16,
     "metadata": {},
     "output_type": "execute_result"
    }
   ],
   "source": [
    "dfDelitosNew[['Anio', 'Mes', 'Dia']].describe()"
   ]
  },
  {
   "cell_type": "code",
   "execution_count": 17,
   "id": "14bbe50c",
   "metadata": {
    "ExecuteTime": {
     "end_time": "2023-06-22T03:33:17.633255Z",
     "start_time": "2023-06-22T03:33:17.576258Z"
    }
   },
   "outputs": [],
   "source": [
    "# Eliminar columnas\n",
    "dfDelitosNew.drop(['AnioMes'], axis=1, inplace=True)"
   ]
  },
  {
   "cell_type": "code",
   "execution_count": 18,
   "id": "0d66ad40",
   "metadata": {
    "ExecuteTime": {
     "end_time": "2023-06-22T03:33:18.915280Z",
     "start_time": "2023-06-22T03:33:18.896283Z"
    }
   },
   "outputs": [
    {
     "data": {
      "text/html": [
       "<div>\n",
       "<style scoped>\n",
       "    .dataframe tbody tr th:only-of-type {\n",
       "        vertical-align: middle;\n",
       "    }\n",
       "\n",
       "    .dataframe tbody tr th {\n",
       "        vertical-align: top;\n",
       "    }\n",
       "\n",
       "    .dataframe thead th {\n",
       "        text-align: right;\n",
       "    }\n",
       "</style>\n",
       "<table border=\"1\" class=\"dataframe\">\n",
       "  <thead>\n",
       "    <tr style=\"text-align: right;\">\n",
       "      <th></th>\n",
       "      <th>Anio</th>\n",
       "      <th>Mes</th>\n",
       "      <th>Dia</th>\n",
       "      <th>Fecha</th>\n",
       "      <th>Localidad</th>\n",
       "      <th>UPZ</th>\n",
       "      <th>Delito</th>\n",
       "      <th>Modalidad</th>\n",
       "      <th>Arma_Empleada</th>\n",
       "      <th>Numero_Hechos</th>\n",
       "      <th>Sexo_FEMENINO</th>\n",
       "      <th>Sexo_MASCULINO</th>\n",
       "      <th>Rango_Dia_MADRUGADA</th>\n",
       "      <th>Rango_Dia_MAÑANA</th>\n",
       "      <th>Rango_Dia_NOCHE</th>\n",
       "      <th>Rango_Dia_TARDE</th>\n",
       "    </tr>\n",
       "  </thead>\n",
       "  <tbody>\n",
       "    <tr>\n",
       "      <th>0</th>\n",
       "      <td>0.0</td>\n",
       "      <td>0.000000</td>\n",
       "      <td>0.0</td>\n",
       "      <td>2019-01-01</td>\n",
       "      <td>0</td>\n",
       "      <td>0.013821</td>\n",
       "      <td>7</td>\n",
       "      <td>0.174212</td>\n",
       "      <td>37</td>\n",
       "      <td>1</td>\n",
       "      <td>0</td>\n",
       "      <td>1</td>\n",
       "      <td>1</td>\n",
       "      <td>0</td>\n",
       "      <td>0</td>\n",
       "      <td>0</td>\n",
       "    </tr>\n",
       "    <tr>\n",
       "      <th>1</th>\n",
       "      <td>0.0</td>\n",
       "      <td>0.000000</td>\n",
       "      <td>0.0</td>\n",
       "      <td>2019-01-01</td>\n",
       "      <td>0</td>\n",
       "      <td>0.005402</td>\n",
       "      <td>19</td>\n",
       "      <td>0.141828</td>\n",
       "      <td>28</td>\n",
       "      <td>1</td>\n",
       "      <td>1</td>\n",
       "      <td>0</td>\n",
       "      <td>1</td>\n",
       "      <td>0</td>\n",
       "      <td>0</td>\n",
       "      <td>0</td>\n",
       "    </tr>\n",
       "    <tr>\n",
       "      <th>2</th>\n",
       "      <td>0.0</td>\n",
       "      <td>0.000000</td>\n",
       "      <td>0.0</td>\n",
       "      <td>2019-01-01</td>\n",
       "      <td>0</td>\n",
       "      <td>0.005402</td>\n",
       "      <td>19</td>\n",
       "      <td>0.141828</td>\n",
       "      <td>28</td>\n",
       "      <td>1</td>\n",
       "      <td>0</td>\n",
       "      <td>1</td>\n",
       "      <td>1</td>\n",
       "      <td>0</td>\n",
       "      <td>0</td>\n",
       "      <td>0</td>\n",
       "    </tr>\n",
       "    <tr>\n",
       "      <th>3</th>\n",
       "      <td>0.0</td>\n",
       "      <td>0.000000</td>\n",
       "      <td>0.0</td>\n",
       "      <td>2019-01-01</td>\n",
       "      <td>0</td>\n",
       "      <td>0.013729</td>\n",
       "      <td>8</td>\n",
       "      <td>0.017777</td>\n",
       "      <td>37</td>\n",
       "      <td>1</td>\n",
       "      <td>1</td>\n",
       "      <td>0</td>\n",
       "      <td>1</td>\n",
       "      <td>0</td>\n",
       "      <td>0</td>\n",
       "      <td>0</td>\n",
       "    </tr>\n",
       "    <tr>\n",
       "      <th>4</th>\n",
       "      <td>0.0</td>\n",
       "      <td>0.000000</td>\n",
       "      <td>0.0</td>\n",
       "      <td>2019-01-01</td>\n",
       "      <td>0</td>\n",
       "      <td>0.006923</td>\n",
       "      <td>19</td>\n",
       "      <td>0.141828</td>\n",
       "      <td>28</td>\n",
       "      <td>1</td>\n",
       "      <td>1</td>\n",
       "      <td>0</td>\n",
       "      <td>1</td>\n",
       "      <td>0</td>\n",
       "      <td>0</td>\n",
       "      <td>0</td>\n",
       "    </tr>\n",
       "    <tr>\n",
       "      <th>...</th>\n",
       "      <td>...</td>\n",
       "      <td>...</td>\n",
       "      <td>...</td>\n",
       "      <td>...</td>\n",
       "      <td>...</td>\n",
       "      <td>...</td>\n",
       "      <td>...</td>\n",
       "      <td>...</td>\n",
       "      <td>...</td>\n",
       "      <td>...</td>\n",
       "      <td>...</td>\n",
       "      <td>...</td>\n",
       "      <td>...</td>\n",
       "      <td>...</td>\n",
       "      <td>...</td>\n",
       "      <td>...</td>\n",
       "    </tr>\n",
       "    <tr>\n",
       "      <th>1090435</th>\n",
       "      <td>1.0</td>\n",
       "      <td>0.090909</td>\n",
       "      <td>0.9</td>\n",
       "      <td>2023-02-28</td>\n",
       "      <td>15</td>\n",
       "      <td>0.008891</td>\n",
       "      <td>1</td>\n",
       "      <td>0.141828</td>\n",
       "      <td>37</td>\n",
       "      <td>1</td>\n",
       "      <td>1</td>\n",
       "      <td>0</td>\n",
       "      <td>0</td>\n",
       "      <td>0</td>\n",
       "      <td>0</td>\n",
       "      <td>1</td>\n",
       "    </tr>\n",
       "    <tr>\n",
       "      <th>1090436</th>\n",
       "      <td>1.0</td>\n",
       "      <td>0.090909</td>\n",
       "      <td>0.9</td>\n",
       "      <td>2023-02-28</td>\n",
       "      <td>17</td>\n",
       "      <td>0.005331</td>\n",
       "      <td>7</td>\n",
       "      <td>0.272130</td>\n",
       "      <td>28</td>\n",
       "      <td>1</td>\n",
       "      <td>0</td>\n",
       "      <td>1</td>\n",
       "      <td>0</td>\n",
       "      <td>0</td>\n",
       "      <td>0</td>\n",
       "      <td>1</td>\n",
       "    </tr>\n",
       "    <tr>\n",
       "      <th>1090437</th>\n",
       "      <td>1.0</td>\n",
       "      <td>0.090909</td>\n",
       "      <td>0.9</td>\n",
       "      <td>2023-02-28</td>\n",
       "      <td>17</td>\n",
       "      <td>0.008333</td>\n",
       "      <td>13</td>\n",
       "      <td>0.027938</td>\n",
       "      <td>22</td>\n",
       "      <td>1</td>\n",
       "      <td>0</td>\n",
       "      <td>1</td>\n",
       "      <td>0</td>\n",
       "      <td>0</td>\n",
       "      <td>0</td>\n",
       "      <td>1</td>\n",
       "    </tr>\n",
       "    <tr>\n",
       "      <th>1090438</th>\n",
       "      <td>1.0</td>\n",
       "      <td>0.090909</td>\n",
       "      <td>0.9</td>\n",
       "      <td>2023-02-28</td>\n",
       "      <td>18</td>\n",
       "      <td>0.008019</td>\n",
       "      <td>10</td>\n",
       "      <td>0.027938</td>\n",
       "      <td>22</td>\n",
       "      <td>1</td>\n",
       "      <td>0</td>\n",
       "      <td>1</td>\n",
       "      <td>0</td>\n",
       "      <td>0</td>\n",
       "      <td>0</td>\n",
       "      <td>1</td>\n",
       "    </tr>\n",
       "    <tr>\n",
       "      <th>1090439</th>\n",
       "      <td>1.0</td>\n",
       "      <td>0.090909</td>\n",
       "      <td>0.9</td>\n",
       "      <td>2023-02-28</td>\n",
       "      <td>18</td>\n",
       "      <td>0.015052</td>\n",
       "      <td>3</td>\n",
       "      <td>0.000676</td>\n",
       "      <td>15</td>\n",
       "      <td>1</td>\n",
       "      <td>0</td>\n",
       "      <td>1</td>\n",
       "      <td>0</td>\n",
       "      <td>0</td>\n",
       "      <td>0</td>\n",
       "      <td>1</td>\n",
       "    </tr>\n",
       "  </tbody>\n",
       "</table>\n",
       "<p>1090440 rows × 16 columns</p>\n",
       "</div>"
      ],
      "text/plain": [
       "         Anio       Mes  Dia      Fecha  Localidad       UPZ  Delito  \\\n",
       "0         0.0  0.000000  0.0 2019-01-01          0  0.013821       7   \n",
       "1         0.0  0.000000  0.0 2019-01-01          0  0.005402      19   \n",
       "2         0.0  0.000000  0.0 2019-01-01          0  0.005402      19   \n",
       "3         0.0  0.000000  0.0 2019-01-01          0  0.013729       8   \n",
       "4         0.0  0.000000  0.0 2019-01-01          0  0.006923      19   \n",
       "...       ...       ...  ...        ...        ...       ...     ...   \n",
       "1090435   1.0  0.090909  0.9 2023-02-28         15  0.008891       1   \n",
       "1090436   1.0  0.090909  0.9 2023-02-28         17  0.005331       7   \n",
       "1090437   1.0  0.090909  0.9 2023-02-28         17  0.008333      13   \n",
       "1090438   1.0  0.090909  0.9 2023-02-28         18  0.008019      10   \n",
       "1090439   1.0  0.090909  0.9 2023-02-28         18  0.015052       3   \n",
       "\n",
       "         Modalidad  Arma_Empleada  Numero_Hechos  Sexo_FEMENINO  \\\n",
       "0         0.174212             37              1              0   \n",
       "1         0.141828             28              1              1   \n",
       "2         0.141828             28              1              0   \n",
       "3         0.017777             37              1              1   \n",
       "4         0.141828             28              1              1   \n",
       "...            ...            ...            ...            ...   \n",
       "1090435   0.141828             37              1              1   \n",
       "1090436   0.272130             28              1              0   \n",
       "1090437   0.027938             22              1              0   \n",
       "1090438   0.027938             22              1              0   \n",
       "1090439   0.000676             15              1              0   \n",
       "\n",
       "         Sexo_MASCULINO  Rango_Dia_MADRUGADA  Rango_Dia_MAÑANA  \\\n",
       "0                     1                    1                 0   \n",
       "1                     0                    1                 0   \n",
       "2                     1                    1                 0   \n",
       "3                     0                    1                 0   \n",
       "4                     0                    1                 0   \n",
       "...                 ...                  ...               ...   \n",
       "1090435               0                    0                 0   \n",
       "1090436               1                    0                 0   \n",
       "1090437               1                    0                 0   \n",
       "1090438               1                    0                 0   \n",
       "1090439               1                    0                 0   \n",
       "\n",
       "         Rango_Dia_NOCHE  Rango_Dia_TARDE  \n",
       "0                      0                0  \n",
       "1                      0                0  \n",
       "2                      0                0  \n",
       "3                      0                0  \n",
       "4                      0                0  \n",
       "...                  ...              ...  \n",
       "1090435                0                1  \n",
       "1090436                0                1  \n",
       "1090437                0                1  \n",
       "1090438                0                1  \n",
       "1090439                0                1  \n",
       "\n",
       "[1090440 rows x 16 columns]"
      ]
     },
     "execution_count": 18,
     "metadata": {},
     "output_type": "execute_result"
    }
   ],
   "source": [
    "dfDelitosNew"
   ]
  },
  {
   "cell_type": "markdown",
   "id": "ad666140",
   "metadata": {},
   "source": [
    "# Construcción de Secuencias Temporales "
   ]
  },
  {
   "cell_type": "markdown",
   "id": "5fe434f5",
   "metadata": {},
   "source": [
    "Paso 1. Ordenar los datos cronológicamente"
   ]
  },
  {
   "cell_type": "code",
   "execution_count": 19,
   "id": "e1f2067f",
   "metadata": {
    "ExecuteTime": {
     "end_time": "2023-06-22T03:33:23.756327Z",
     "start_time": "2023-06-22T03:33:23.624329Z"
    }
   },
   "outputs": [
    {
     "name": "stdout",
     "output_type": "stream",
     "text": [
      "Primeras fechas ordenadas:\n",
      "╒═════════════════════╕\n",
      "│ Fecha               │\n",
      "╞═════════════════════╡\n",
      "│ 2019-01-01 00:00:00 │\n",
      "├─────────────────────┤\n",
      "│ 2019-01-02 00:00:00 │\n",
      "├─────────────────────┤\n",
      "│ 2019-01-03 00:00:00 │\n",
      "├─────────────────────┤\n",
      "│ 2019-01-04 00:00:00 │\n",
      "├─────────────────────┤\n",
      "│ 2019-01-05 00:00:00 │\n",
      "╘═════════════════════╛\n",
      "Últimas fechas ordenadas:\n",
      "╒═════════════════════╕\n",
      "│ Fecha               │\n",
      "╞═════════════════════╡\n",
      "│ 2023-02-24 00:00:00 │\n",
      "├─────────────────────┤\n",
      "│ 2023-02-25 00:00:00 │\n",
      "├─────────────────────┤\n",
      "│ 2023-02-26 00:00:00 │\n",
      "├─────────────────────┤\n",
      "│ 2023-02-27 00:00:00 │\n",
      "├─────────────────────┤\n",
      "│ 2023-02-28 00:00:00 │\n",
      "╘═════════════════════╛\n"
     ]
    }
   ],
   "source": [
    "dfDelitosNew.sort_values('Fecha', inplace=True)\n",
    "# Mostrar las primeras fechas ordenadas\n",
    "first_dates = dfDelitosNew['Fecha'].drop_duplicates().head().tolist()\n",
    "print(\"Primeras fechas ordenadas:\")\n",
    "print(tabulate({\"Fecha\": first_dates}, headers=\"keys\", tablefmt=\"fancy_grid\"))\n",
    "\n",
    "# Mostrar las últimas fechas ordenadas\n",
    "last_dates = dfDelitosNew['Fecha'].drop_duplicates().tail().tolist()\n",
    "print(\"Últimas fechas ordenadas:\")\n",
    "print(tabulate({\"Fecha\": last_dates}, headers=\"keys\", tablefmt=\"fancy_grid\"))"
   ]
  },
  {
   "cell_type": "markdown",
   "id": "a574bcb0",
   "metadata": {},
   "source": [
    "Paso 2: Agregación de los datos al nivel de día"
   ]
  },
  {
   "cell_type": "code",
   "execution_count": 20,
   "id": "19d7a2fe",
   "metadata": {
    "ExecuteTime": {
     "end_time": "2023-06-22T03:33:26.317126Z",
     "start_time": "2023-06-22T03:33:26.289126Z"
    }
   },
   "outputs": [
    {
     "name": "stdout",
     "output_type": "stream",
     "text": [
      "Primeros 5 registros:\n",
      "╒════╤═════════════════════╤════════════╕\n",
      "│    │ Fecha               │   Cantidad │\n",
      "╞════╪═════════════════════╪════════════╡\n",
      "│  0 │ 2019-01-01 00:00:00 │        443 │\n",
      "├────┼─────────────────────┼────────────┤\n",
      "│  1 │ 2019-01-02 00:00:00 │        392 │\n",
      "├────┼─────────────────────┼────────────┤\n",
      "│  2 │ 2019-01-03 00:00:00 │        492 │\n",
      "├────┼─────────────────────┼────────────┤\n",
      "│  3 │ 2019-01-04 00:00:00 │        524 │\n",
      "├────┼─────────────────────┼────────────┤\n",
      "│  4 │ 2019-01-05 00:00:00 │        494 │\n",
      "╘════╧═════════════════════╧════════════╛\n",
      "Últimos 5 registros:\n",
      "╒══════╤═════════════════════╤════════════╕\n",
      "│      │ Fecha               │   Cantidad │\n",
      "╞══════╪═════════════════════╪════════════╡\n",
      "│ 1515 │ 2023-02-24 00:00:00 │        246 │\n",
      "├──────┼─────────────────────┼────────────┤\n",
      "│ 1516 │ 2023-02-25 00:00:00 │        249 │\n",
      "├──────┼─────────────────────┼────────────┤\n",
      "│ 1517 │ 2023-02-26 00:00:00 │        260 │\n",
      "├──────┼─────────────────────┼────────────┤\n",
      "│ 1518 │ 2023-02-27 00:00:00 │        165 │\n",
      "├──────┼─────────────────────┼────────────┤\n",
      "│ 1519 │ 2023-02-28 00:00:00 │        102 │\n",
      "╘══════╧═════════════════════╧════════════╛\n"
     ]
    }
   ],
   "source": [
    "# Agrupar por fecha y contar registros\n",
    "count_by_date = dfDelitosNew.groupby('Fecha').size().reset_index(name='Cantidad')\n",
    "\n",
    "# Obtener los primeros 5 registros\n",
    "primeros_5 = count_by_date.head(5)\n",
    "\n",
    "# Obtener los últimos 5 registros\n",
    "ultimos_5 = count_by_date.tail(5)\n",
    "\n",
    "# Mostrar los primeros 5 registros con tabulate\n",
    "print(\"Primeros 5 registros:\")\n",
    "print(tabulate(primeros_5, headers='keys', tablefmt='fancy_grid'))\n",
    "\n",
    "# Mostrar los últimos 5 registros con tabulate\n",
    "print(\"Últimos 5 registros:\")\n",
    "print(tabulate(ultimos_5, headers='keys', tablefmt='fancy_grid'))"
   ]
  },
  {
   "cell_type": "code",
   "execution_count": 21,
   "id": "de89c29f",
   "metadata": {
    "ExecuteTime": {
     "end_time": "2023-06-22T03:33:27.662037Z",
     "start_time": "2023-06-22T03:33:27.497309Z"
    }
   },
   "outputs": [
    {
     "data": {
      "text/html": [
       "<div>\n",
       "<style scoped>\n",
       "    .dataframe tbody tr th:only-of-type {\n",
       "        vertical-align: middle;\n",
       "    }\n",
       "\n",
       "    .dataframe tbody tr th {\n",
       "        vertical-align: top;\n",
       "    }\n",
       "\n",
       "    .dataframe thead th {\n",
       "        text-align: right;\n",
       "    }\n",
       "</style>\n",
       "<table border=\"1\" class=\"dataframe\">\n",
       "  <thead>\n",
       "    <tr style=\"text-align: right;\">\n",
       "      <th></th>\n",
       "      <th>Anio</th>\n",
       "      <th>Mes</th>\n",
       "      <th>Dia</th>\n",
       "      <th>Localidad</th>\n",
       "      <th>UPZ</th>\n",
       "      <th>Delito</th>\n",
       "      <th>Modalidad</th>\n",
       "      <th>Arma_Empleada</th>\n",
       "      <th>Numero_Hechos</th>\n",
       "      <th>Sexo_FEMENINO</th>\n",
       "      <th>Sexo_MASCULINO</th>\n",
       "      <th>Rango_Dia_MADRUGADA</th>\n",
       "      <th>Rango_Dia_MAÑANA</th>\n",
       "      <th>Rango_Dia_NOCHE</th>\n",
       "      <th>Rango_Dia_TARDE</th>\n",
       "    </tr>\n",
       "    <tr>\n",
       "      <th>Fecha</th>\n",
       "      <th></th>\n",
       "      <th></th>\n",
       "      <th></th>\n",
       "      <th></th>\n",
       "      <th></th>\n",
       "      <th></th>\n",
       "      <th></th>\n",
       "      <th></th>\n",
       "      <th></th>\n",
       "      <th></th>\n",
       "      <th></th>\n",
       "      <th></th>\n",
       "      <th></th>\n",
       "      <th></th>\n",
       "      <th></th>\n",
       "    </tr>\n",
       "  </thead>\n",
       "  <tbody>\n",
       "    <tr>\n",
       "      <th>2019-01-01</th>\n",
       "      <td>0.0</td>\n",
       "      <td>0.0</td>\n",
       "      <td>0.000000</td>\n",
       "      <td>8.747178</td>\n",
       "      <td>0.011917</td>\n",
       "      <td>11.510158</td>\n",
       "      <td>0.115489</td>\n",
       "      <td>21.539503</td>\n",
       "      <td>1.054176</td>\n",
       "      <td>0.458239</td>\n",
       "      <td>0.541761</td>\n",
       "      <td>0.519187</td>\n",
       "      <td>0.182844</td>\n",
       "      <td>0.176072</td>\n",
       "      <td>0.121896</td>\n",
       "    </tr>\n",
       "    <tr>\n",
       "      <th>2019-01-02</th>\n",
       "      <td>0.0</td>\n",
       "      <td>0.0</td>\n",
       "      <td>0.033333</td>\n",
       "      <td>8.757653</td>\n",
       "      <td>0.011972</td>\n",
       "      <td>9.780612</td>\n",
       "      <td>0.139180</td>\n",
       "      <td>22.206633</td>\n",
       "      <td>1.020408</td>\n",
       "      <td>0.410714</td>\n",
       "      <td>0.589286</td>\n",
       "      <td>0.372449</td>\n",
       "      <td>0.214286</td>\n",
       "      <td>0.198980</td>\n",
       "      <td>0.214286</td>\n",
       "    </tr>\n",
       "    <tr>\n",
       "      <th>2019-01-03</th>\n",
       "      <td>0.0</td>\n",
       "      <td>0.0</td>\n",
       "      <td>0.066667</td>\n",
       "      <td>9.087398</td>\n",
       "      <td>0.012065</td>\n",
       "      <td>10.355691</td>\n",
       "      <td>0.146335</td>\n",
       "      <td>21.792683</td>\n",
       "      <td>1.028455</td>\n",
       "      <td>0.453252</td>\n",
       "      <td>0.546748</td>\n",
       "      <td>0.416667</td>\n",
       "      <td>0.172764</td>\n",
       "      <td>0.231707</td>\n",
       "      <td>0.178862</td>\n",
       "    </tr>\n",
       "    <tr>\n",
       "      <th>2019-01-04</th>\n",
       "      <td>0.0</td>\n",
       "      <td>0.0</td>\n",
       "      <td>0.100000</td>\n",
       "      <td>8.748092</td>\n",
       "      <td>0.012656</td>\n",
       "      <td>9.322519</td>\n",
       "      <td>0.144432</td>\n",
       "      <td>22.679389</td>\n",
       "      <td>1.028626</td>\n",
       "      <td>0.393130</td>\n",
       "      <td>0.606870</td>\n",
       "      <td>0.469466</td>\n",
       "      <td>0.192748</td>\n",
       "      <td>0.175573</td>\n",
       "      <td>0.162214</td>\n",
       "    </tr>\n",
       "    <tr>\n",
       "      <th>2019-01-05</th>\n",
       "      <td>0.0</td>\n",
       "      <td>0.0</td>\n",
       "      <td>0.133333</td>\n",
       "      <td>8.212551</td>\n",
       "      <td>0.012110</td>\n",
       "      <td>9.645749</td>\n",
       "      <td>0.142939</td>\n",
       "      <td>23.028340</td>\n",
       "      <td>1.010121</td>\n",
       "      <td>0.443320</td>\n",
       "      <td>0.556680</td>\n",
       "      <td>0.419028</td>\n",
       "      <td>0.153846</td>\n",
       "      <td>0.230769</td>\n",
       "      <td>0.196356</td>\n",
       "    </tr>\n",
       "  </tbody>\n",
       "</table>\n",
       "</div>"
      ],
      "text/plain": [
       "            Anio  Mes       Dia  Localidad       UPZ     Delito  Modalidad  \\\n",
       "Fecha                                                                        \n",
       "2019-01-01   0.0  0.0  0.000000   8.747178  0.011917  11.510158   0.115489   \n",
       "2019-01-02   0.0  0.0  0.033333   8.757653  0.011972   9.780612   0.139180   \n",
       "2019-01-03   0.0  0.0  0.066667   9.087398  0.012065  10.355691   0.146335   \n",
       "2019-01-04   0.0  0.0  0.100000   8.748092  0.012656   9.322519   0.144432   \n",
       "2019-01-05   0.0  0.0  0.133333   8.212551  0.012110   9.645749   0.142939   \n",
       "\n",
       "            Arma_Empleada  Numero_Hechos  Sexo_FEMENINO  Sexo_MASCULINO  \\\n",
       "Fecha                                                                     \n",
       "2019-01-01      21.539503       1.054176       0.458239        0.541761   \n",
       "2019-01-02      22.206633       1.020408       0.410714        0.589286   \n",
       "2019-01-03      21.792683       1.028455       0.453252        0.546748   \n",
       "2019-01-04      22.679389       1.028626       0.393130        0.606870   \n",
       "2019-01-05      23.028340       1.010121       0.443320        0.556680   \n",
       "\n",
       "            Rango_Dia_MADRUGADA  Rango_Dia_MAÑANA  Rango_Dia_NOCHE  \\\n",
       "Fecha                                                                \n",
       "2019-01-01             0.519187          0.182844         0.176072   \n",
       "2019-01-02             0.372449          0.214286         0.198980   \n",
       "2019-01-03             0.416667          0.172764         0.231707   \n",
       "2019-01-04             0.469466          0.192748         0.175573   \n",
       "2019-01-05             0.419028          0.153846         0.230769   \n",
       "\n",
       "            Rango_Dia_TARDE  \n",
       "Fecha                        \n",
       "2019-01-01         0.121896  \n",
       "2019-01-02         0.214286  \n",
       "2019-01-03         0.178862  \n",
       "2019-01-04         0.162214  \n",
       "2019-01-05         0.196356  "
      ]
     },
     "execution_count": 21,
     "metadata": {},
     "output_type": "execute_result"
    }
   ],
   "source": [
    "dfDelitosNew_daily = dfDelitosNew.groupby('Fecha').mean()\n",
    "dfDelitosNew_daily.head()"
   ]
  },
  {
   "cell_type": "markdown",
   "id": "9459af66",
   "metadata": {},
   "source": [
    "Paso 3: Selección de las columnas relevantes"
   ]
  },
  {
   "cell_type": "code",
   "execution_count": 22,
   "id": "9ec075bb",
   "metadata": {
    "ExecuteTime": {
     "end_time": "2023-06-22T03:33:30.165255Z",
     "start_time": "2023-06-22T03:33:30.155256Z"
    }
   },
   "outputs": [],
   "source": [
    "relevant_columns = ['Anio', 'Mes', 'Dia', 'Localidad', 'UPZ', 'Delito', 'Modalidad', 'Arma_Empleada', 'Numero_Hechos', \n",
    "                    'Sexo_FEMENINO', 'Sexo_MASCULINO', 'Rango_Dia_MADRUGADA', 'Rango_Dia_MAÑANA', 'Rango_Dia_NOCHE', \n",
    "                    'Rango_Dia_TARDE']\n",
    "dfDelitosNew_relevant = dfDelitosNew_daily[relevant_columns]"
   ]
  },
  {
   "cell_type": "code",
   "execution_count": 40,
   "id": "6efdbacf",
   "metadata": {
    "ExecuteTime": {
     "end_time": "2023-06-22T04:04:33.801376Z",
     "start_time": "2023-06-22T04:04:33.781376Z"
    }
   },
   "outputs": [
    {
     "data": {
      "text/html": [
       "<div>\n",
       "<style scoped>\n",
       "    .dataframe tbody tr th:only-of-type {\n",
       "        vertical-align: middle;\n",
       "    }\n",
       "\n",
       "    .dataframe tbody tr th {\n",
       "        vertical-align: top;\n",
       "    }\n",
       "\n",
       "    .dataframe thead th {\n",
       "        text-align: right;\n",
       "    }\n",
       "</style>\n",
       "<table border=\"1\" class=\"dataframe\">\n",
       "  <thead>\n",
       "    <tr style=\"text-align: right;\">\n",
       "      <th></th>\n",
       "      <th>Anio</th>\n",
       "      <th>Mes</th>\n",
       "      <th>Dia</th>\n",
       "      <th>Localidad</th>\n",
       "      <th>UPZ</th>\n",
       "      <th>Delito</th>\n",
       "      <th>Modalidad</th>\n",
       "      <th>Arma_Empleada</th>\n",
       "      <th>Numero_Hechos</th>\n",
       "      <th>Sexo_FEMENINO</th>\n",
       "      <th>Sexo_MASCULINO</th>\n",
       "      <th>Rango_Dia_MADRUGADA</th>\n",
       "      <th>Rango_Dia_MAÑANA</th>\n",
       "      <th>Rango_Dia_NOCHE</th>\n",
       "      <th>Rango_Dia_TARDE</th>\n",
       "    </tr>\n",
       "    <tr>\n",
       "      <th>Fecha</th>\n",
       "      <th></th>\n",
       "      <th></th>\n",
       "      <th></th>\n",
       "      <th></th>\n",
       "      <th></th>\n",
       "      <th></th>\n",
       "      <th></th>\n",
       "      <th></th>\n",
       "      <th></th>\n",
       "      <th></th>\n",
       "      <th></th>\n",
       "      <th></th>\n",
       "      <th></th>\n",
       "      <th></th>\n",
       "      <th></th>\n",
       "    </tr>\n",
       "  </thead>\n",
       "  <tbody>\n",
       "    <tr>\n",
       "      <th>2019-01-01</th>\n",
       "      <td>0.0</td>\n",
       "      <td>0.0</td>\n",
       "      <td>0.000000</td>\n",
       "      <td>8.747178</td>\n",
       "      <td>0.011917</td>\n",
       "      <td>11.510158</td>\n",
       "      <td>0.115489</td>\n",
       "      <td>21.539503</td>\n",
       "      <td>1.054176</td>\n",
       "      <td>0.458239</td>\n",
       "      <td>0.541761</td>\n",
       "      <td>0.519187</td>\n",
       "      <td>0.182844</td>\n",
       "      <td>0.176072</td>\n",
       "      <td>0.121896</td>\n",
       "    </tr>\n",
       "    <tr>\n",
       "      <th>2019-01-02</th>\n",
       "      <td>0.0</td>\n",
       "      <td>0.0</td>\n",
       "      <td>0.033333</td>\n",
       "      <td>8.757653</td>\n",
       "      <td>0.011972</td>\n",
       "      <td>9.780612</td>\n",
       "      <td>0.139180</td>\n",
       "      <td>22.206633</td>\n",
       "      <td>1.020408</td>\n",
       "      <td>0.410714</td>\n",
       "      <td>0.589286</td>\n",
       "      <td>0.372449</td>\n",
       "      <td>0.214286</td>\n",
       "      <td>0.198980</td>\n",
       "      <td>0.214286</td>\n",
       "    </tr>\n",
       "    <tr>\n",
       "      <th>2019-01-03</th>\n",
       "      <td>0.0</td>\n",
       "      <td>0.0</td>\n",
       "      <td>0.066667</td>\n",
       "      <td>9.087398</td>\n",
       "      <td>0.012065</td>\n",
       "      <td>10.355691</td>\n",
       "      <td>0.146335</td>\n",
       "      <td>21.792683</td>\n",
       "      <td>1.028455</td>\n",
       "      <td>0.453252</td>\n",
       "      <td>0.546748</td>\n",
       "      <td>0.416667</td>\n",
       "      <td>0.172764</td>\n",
       "      <td>0.231707</td>\n",
       "      <td>0.178862</td>\n",
       "    </tr>\n",
       "    <tr>\n",
       "      <th>2019-01-04</th>\n",
       "      <td>0.0</td>\n",
       "      <td>0.0</td>\n",
       "      <td>0.100000</td>\n",
       "      <td>8.748092</td>\n",
       "      <td>0.012656</td>\n",
       "      <td>9.322519</td>\n",
       "      <td>0.144432</td>\n",
       "      <td>22.679389</td>\n",
       "      <td>1.028626</td>\n",
       "      <td>0.393130</td>\n",
       "      <td>0.606870</td>\n",
       "      <td>0.469466</td>\n",
       "      <td>0.192748</td>\n",
       "      <td>0.175573</td>\n",
       "      <td>0.162214</td>\n",
       "    </tr>\n",
       "    <tr>\n",
       "      <th>2019-01-05</th>\n",
       "      <td>0.0</td>\n",
       "      <td>0.0</td>\n",
       "      <td>0.133333</td>\n",
       "      <td>8.212551</td>\n",
       "      <td>0.012110</td>\n",
       "      <td>9.645749</td>\n",
       "      <td>0.142939</td>\n",
       "      <td>23.028340</td>\n",
       "      <td>1.010121</td>\n",
       "      <td>0.443320</td>\n",
       "      <td>0.556680</td>\n",
       "      <td>0.419028</td>\n",
       "      <td>0.153846</td>\n",
       "      <td>0.230769</td>\n",
       "      <td>0.196356</td>\n",
       "    </tr>\n",
       "  </tbody>\n",
       "</table>\n",
       "</div>"
      ],
      "text/plain": [
       "            Anio  Mes       Dia  Localidad       UPZ     Delito  Modalidad  \\\n",
       "Fecha                                                                        \n",
       "2019-01-01   0.0  0.0  0.000000   8.747178  0.011917  11.510158   0.115489   \n",
       "2019-01-02   0.0  0.0  0.033333   8.757653  0.011972   9.780612   0.139180   \n",
       "2019-01-03   0.0  0.0  0.066667   9.087398  0.012065  10.355691   0.146335   \n",
       "2019-01-04   0.0  0.0  0.100000   8.748092  0.012656   9.322519   0.144432   \n",
       "2019-01-05   0.0  0.0  0.133333   8.212551  0.012110   9.645749   0.142939   \n",
       "\n",
       "            Arma_Empleada  Numero_Hechos  Sexo_FEMENINO  Sexo_MASCULINO  \\\n",
       "Fecha                                                                     \n",
       "2019-01-01      21.539503       1.054176       0.458239        0.541761   \n",
       "2019-01-02      22.206633       1.020408       0.410714        0.589286   \n",
       "2019-01-03      21.792683       1.028455       0.453252        0.546748   \n",
       "2019-01-04      22.679389       1.028626       0.393130        0.606870   \n",
       "2019-01-05      23.028340       1.010121       0.443320        0.556680   \n",
       "\n",
       "            Rango_Dia_MADRUGADA  Rango_Dia_MAÑANA  Rango_Dia_NOCHE  \\\n",
       "Fecha                                                                \n",
       "2019-01-01             0.519187          0.182844         0.176072   \n",
       "2019-01-02             0.372449          0.214286         0.198980   \n",
       "2019-01-03             0.416667          0.172764         0.231707   \n",
       "2019-01-04             0.469466          0.192748         0.175573   \n",
       "2019-01-05             0.419028          0.153846         0.230769   \n",
       "\n",
       "            Rango_Dia_TARDE  \n",
       "Fecha                        \n",
       "2019-01-01         0.121896  \n",
       "2019-01-02         0.214286  \n",
       "2019-01-03         0.178862  \n",
       "2019-01-04         0.162214  \n",
       "2019-01-05         0.196356  "
      ]
     },
     "execution_count": 40,
     "metadata": {},
     "output_type": "execute_result"
    }
   ],
   "source": [
    "dfDelitosNew_relevant.head()"
   ]
  },
  {
   "cell_type": "markdown",
   "id": "06f83d90",
   "metadata": {},
   "source": [
    "Paso 4: Definición del tamaño de la ventana temporal"
   ]
  },
  {
   "cell_type": "code",
   "execution_count": 23,
   "id": "fbdba3d3",
   "metadata": {
    "ExecuteTime": {
     "end_time": "2023-06-22T03:33:32.861274Z",
     "start_time": "2023-06-22T03:33:32.858275Z"
    }
   },
   "outputs": [],
   "source": [
    "lookback = 30  # Tamaño de la ventana temporal"
   ]
  },
  {
   "cell_type": "markdown",
   "id": "9a01a0a9",
   "metadata": {},
   "source": [
    "Paso 5: Creación de las secuencias temporales"
   ]
  },
  {
   "cell_type": "code",
   "execution_count": 24,
   "id": "61a7a864",
   "metadata": {
    "ExecuteTime": {
     "end_time": "2023-06-22T03:33:36.354307Z",
     "start_time": "2023-06-22T03:33:36.169309Z"
    }
   },
   "outputs": [
    {
     "data": {
      "image/png": "[encoded data removed]",
      "text/plain": [
       "<Figure size 1080x720 with 1 Axes>"
      ]
     },
     "metadata": {
      "needs_background": "light"
     },
     "output_type": "display_data"
    }
   ],
   "source": [
    "# Supongamos que 'dfDelitosNew' es tu DataFrame y ya está indexado por 'Fecha'\n",
    "dfDelitosNewS = dfDelitosNew.copy()\n",
    "dfDelitosNewS = pd.DataFrame(np.random.randint(0,100,size=(100, 1)), columns=['Delito'], \n",
    "                            index=pd.date_range(start='1/1/2019', periods=100))\n",
    "\n",
    "# Define el tamaño de la ventana temporal\n",
    "lookback_ejemplo = 5\n",
    "\n",
    "# Define el tiempo actual t\n",
    "t = pd.Timestamp('2019-02-14')\n",
    "\n",
    "# Crea una figura y un eje de mayor tamaño\n",
    "fig, ax = plt.subplots(figsize=(15, 10))  # Ajusta el tamaño a lo que necesites\n",
    "\n",
    "# Dibuja la secuencia completa\n",
    "ax.plot(dfDelitosNewS.index, dfDelitosNewS['Delito'], '-o', label='Secuencia completa')\n",
    "\n",
    "# Dibuja la ventana temporal en el tiempo t\n",
    "ax.plot(dfDelitosNewS.loc[t - pd.Timedelta(days=lookback_ejemplo):t - pd.Timedelta(days=1)].index, \n",
    "        dfDelitosNewS.loc[t - pd.Timedelta(days=lookback_ejemplo):t - pd.Timedelta(days=1)]['Delito'], \n",
    "        '-o', color='red', label=f'Ventana temporal en tiempo {t}')\n",
    "\n",
    "# Añade una leyenda\n",
    "ax.legend()\n",
    "\n",
    "# Añade etiquetas a los ejes\n",
    "ax.set_xlabel('Fecha')\n",
    "ax.set_ylabel('Delito')\n",
    "\n",
    "# Ajusta la orientación de las etiquetas del eje x\n",
    "plt.xticks(rotation=45)\n",
    "\n",
    "# Muestra la gráfica\n",
    "plt.show()"
   ]
  },
  {
   "cell_type": "markdown",
   "id": "3ea15aa8",
   "metadata": {},
   "source": [
    "Funcion Secuencia temporal"
   ]
  },
  {
   "cell_type": "code",
   "execution_count": 29,
   "id": "12f1b360",
   "metadata": {
    "ExecuteTime": {
     "end_time": "2023-06-22T03:34:03.873321Z",
     "start_time": "2023-06-22T03:34:03.869319Z"
    }
   },
   "outputs": [],
   "source": [
    "def create_sequences(df, lookback):\n",
    "    X, y = [], []\n",
    "    for i in range(len(df) - lookback):\n",
    "        X.append(df.iloc[i:(i + lookback)].values)\n",
    "        y.append(df.iloc[i + lookback].values)\n",
    "    return np.array(X), np.array(y)"
   ]
  },
  {
   "cell_type": "code",
   "execution_count": 31,
   "id": "91c69f22",
   "metadata": {
    "ExecuteTime": {
     "end_time": "2023-06-22T03:34:15.111299Z",
     "start_time": "2023-06-22T03:34:14.974301Z"
    }
   },
   "outputs": [
    {
     "name": "stdout",
     "output_type": "stream",
     "text": [
      "Secuencias de entrada (X):\n",
      "[[[0.         0.         0.         ... 0.18284424 0.17607223 0.12189616]\n",
      "  [0.         0.         0.03333333 ... 0.21428571 0.19897959 0.21428571]\n",
      "  [0.         0.         0.06666667 ... 0.17276423 0.23170732 0.17886179]\n",
      "  ...\n",
      "  [0.         0.         0.9        ... 0.21595598 0.1911967  0.1911967 ]\n",
      "  [0.         0.         0.93333333 ... 0.19899875 0.19274093 0.19148936]\n",
      "  [0.         0.         0.96666667 ... 0.19166667 0.19761905 0.2       ]]\n",
      "\n",
      " [[0.         0.         0.03333333 ... 0.21428571 0.19897959 0.21428571]\n",
      "  [0.         0.         0.06666667 ... 0.17276423 0.23170732 0.17886179]\n",
      "  [0.         0.         0.1        ... 0.19274809 0.17557252 0.16221374]\n",
      "  ...\n",
      "  [0.         0.         0.93333333 ... 0.19899875 0.19274093 0.19148936]\n",
      "  [0.         0.         0.96666667 ... 0.19166667 0.19761905 0.2       ]\n",
      "  [0.         0.         1.         ... 0.18562874 0.20718563 0.16167665]]\n",
      "\n",
      " [[0.         0.         0.06666667 ... 0.17276423 0.23170732 0.17886179]\n",
      "  [0.         0.         0.1        ... 0.19274809 0.17557252 0.16221374]\n",
      "  [0.         0.         0.13333333 ... 0.15384615 0.23076923 0.19635628]\n",
      "  ...\n",
      "  [0.         0.         0.96666667 ... 0.19166667 0.19761905 0.2       ]\n",
      "  [0.         0.         1.         ... 0.18562874 0.20718563 0.16167665]\n",
      "  [0.         0.09090909 0.         ... 0.20518868 0.1875     0.18985849]]\n",
      "\n",
      " ...\n",
      "\n",
      " [[1.         0.         0.86666667 ... 0.26282051 0.27564103 0.27350427]\n",
      "  [1.         0.         0.9        ... 0.22271224 0.27563396 0.26019846]\n",
      "  [1.         0.         0.93333333 ... 0.22746186 0.21914008 0.2149792 ]\n",
      "  ...\n",
      "  [1.         0.09090909 0.73333333 ... 0.31954887 0.22180451 0.22556391]\n",
      "  [1.         0.09090909 0.76666667 ... 0.23577236 0.2804878  0.30081301]\n",
      "  [1.         0.09090909 0.8        ... 0.23293173 0.34136546 0.20883534]]\n",
      "\n",
      " [[1.         0.         0.9        ... 0.22271224 0.27563396 0.26019846]\n",
      "  [1.         0.         0.93333333 ... 0.22746186 0.21914008 0.2149792 ]\n",
      "  [1.         0.         0.96666667 ... 0.36231884 0.20512821 0.25083612]\n",
      "  ...\n",
      "  [1.         0.09090909 0.76666667 ... 0.23577236 0.2804878  0.30081301]\n",
      "  [1.         0.09090909 0.8        ... 0.23293173 0.34136546 0.20883534]\n",
      "  [1.         0.09090909 0.83333333 ... 0.25384615 0.18461538 0.28846154]]\n",
      "\n",
      " [[1.         0.         0.93333333 ... 0.22746186 0.21914008 0.2149792 ]\n",
      "  [1.         0.         0.96666667 ... 0.36231884 0.20512821 0.25083612]\n",
      "  [1.         0.         1.         ... 0.29535398 0.25553097 0.27654867]\n",
      "  ...\n",
      "  [1.         0.09090909 0.8        ... 0.23293173 0.34136546 0.20883534]\n",
      "  [1.         0.09090909 0.83333333 ... 0.25384615 0.18461538 0.28846154]\n",
      "  [1.         0.09090909 0.86666667 ... 0.28484848 0.26666667 0.24848485]]]\n",
      "Salidas correspondientes (y):\n",
      "[[0.         0.         1.         ... 0.18562874 0.20718563 0.16167665]\n",
      " [0.         0.09090909 0.         ... 0.20518868 0.1875     0.18985849]\n",
      " [0.         0.09090909 0.03333333 ... 0.16411683 0.20445063 0.21696801]\n",
      " ...\n",
      " [1.         0.09090909 0.83333333 ... 0.25384615 0.18461538 0.28846154]\n",
      " [1.         0.09090909 0.86666667 ... 0.28484848 0.26666667 0.24848485]\n",
      " [1.         0.09090909 0.9        ... 0.3627451  0.21568627 0.26470588]]\n"
     ]
    }
   ],
   "source": [
    "X, y = create_sequences(dfDelitosNew_relevant, lookback)\n",
    "\n",
    "print(\"Secuencias de entrada (X):\")\n",
    "print(X)\n",
    "\n",
    "print(\"Salidas correspondientes (y):\")\n",
    "print(y)"
   ]
  },
  {
   "cell_type": "code",
   "execution_count": 33,
   "id": "43f4bb9b",
   "metadata": {
    "ExecuteTime": {
     "end_time": "2023-06-22T03:45:30.368435Z",
     "start_time": "2023-06-22T03:45:30.256438Z"
    }
   },
   "outputs": [
    {
     "data": {
      "image/png": "[encoded data removed]",
      "text/plain": [
       "<Figure size 864x432 with 1 Axes>"
      ]
     },
     "metadata": {
      "needs_background": "light"
     },
     "output_type": "display_data"
    }
   ],
   "source": [
    "# Asumiendo que i es el índice de la secuencia que queremos visualizar\n",
    "i = 0\n",
    "\n",
    "# Asumiendo que 'Delito' es la característica que queremos visualizar\n",
    "feature_index = dfDelitosNew_relevant.columns.tolist().index('Delito')\n",
    "\n",
    "plt.figure(figsize=(12,6))\n",
    "plt.plot(range(len(X[i, :, feature_index])), X[i, :, feature_index], label='Secuencia para Delito')\n",
    "plt.plot(len(X[i, :, feature_index]), y[i, feature_index], 'ro', label='Valor a predecir para Delito')\n",
    "plt.xlabel('Pasos temporales')\n",
    "plt.ylabel('Delito')\n",
    "plt.title('Representación visual de una secuencia y su valor a predecir para la característica \"Delito\"')\n",
    "plt.legend()\n",
    "plt.show()\n"
   ]
  },
  {
   "cell_type": "markdown",
   "id": "4849e03d",
   "metadata": {},
   "source": [
    "# División de los datos"
   ]
  },
  {
   "cell_type": "code",
   "execution_count": 34,
   "id": "81a9d61a",
   "metadata": {
    "ExecuteTime": {
     "end_time": "2023-06-22T03:45:32.959255Z",
     "start_time": "2023-06-22T03:45:32.952259Z"
    }
   },
   "outputs": [],
   "source": [
    "# Tamaño de los datos\n",
    "data_size = len(X)\n",
    "\n",
    "# Tamaños de los conjuntos de entrenamiento, validación y prueba\n",
    "train_size = int(data_size * 0.7)\n",
    "val_size = int(data_size * 0.15)\n",
    "\n",
    "# Tamaños acumulados para utilizar en la división de los datos\n",
    "train_val_size = train_size + val_size \n",
    "\n",
    "# División de los datos\n",
    "X_train, y_train = X[:train_size], y[:train_size]\n",
    "X_val, y_val = X[train_size:train_val_size], y[train_size:train_val_size]\n",
    "X_test, y_test = X[train_val_size:], y[train_val_size:]"
   ]
  },
  {
   "cell_type": "code",
   "execution_count": 35,
   "id": "2f108fca",
   "metadata": {
    "ExecuteTime": {
     "end_time": "2023-06-22T03:45:36.944704Z",
     "start_time": "2023-06-22T03:45:36.938704Z"
    }
   },
   "outputs": [
    {
     "name": "stdout",
     "output_type": "stream",
     "text": [
      "Forma de X_train: (1043, 30, 15)\n",
      "Forma de X_val: (223, 30, 15)\n",
      "Forma de X_test: (224, 30, 15)\n",
      "Forma de y_train: (1043, 15)\n",
      "Forma de y_val: (223, 15)\n",
      "Forma de y_test: (224, 15)\n"
     ]
    }
   ],
   "source": [
    "print(\"Forma de X_train:\", X_train.shape)\n",
    "print(\"Forma de X_val:\", X_val.shape)\n",
    "print(\"Forma de X_test:\", X_test.shape)\n",
    "print(\"Forma de y_train:\", y_train.shape)\n",
    "print(\"Forma de y_val:\", y_val.shape)\n",
    "print(\"Forma de y_test:\", y_test.shape)"
   ]
  },
  {
   "cell_type": "code",
   "execution_count": 36,
   "id": "ea6cd443",
   "metadata": {
    "ExecuteTime": {
     "end_time": "2023-06-22T03:45:39.889165Z",
     "start_time": "2023-06-22T03:45:39.817165Z"
    }
   },
   "outputs": [
    {
     "data": {
      "image/png": "[encoded data removed]",
      "text/plain": [
       "<Figure size 720x432 with 1 Axes>"
      ]
     },
     "metadata": {
      "needs_background": "light"
     },
     "output_type": "display_data"
    }
   ],
   "source": [
    "# Cantidad de datos en cada conjunto\n",
    "data_counts = [len(X_train), len(X_val), len(X_test)]\n",
    "\n",
    "# Creación del gráfico\n",
    "plt.figure(figsize=(10, 6))\n",
    "plt.bar(['Entrenamiento', 'Validación', 'Prueba'], data_counts, color=['blue', 'orange', 'green'])\n",
    "\n",
    "# Etiquetas y título\n",
    "plt.ylabel('Cantidad de datos')\n",
    "plt.title('División de los datos')\n",
    "\n",
    "# Mostrar el gráfico\n",
    "plt.show()"
   ]
  },
  {
   "cell_type": "markdown",
   "id": "3bd592a1",
   "metadata": {},
   "source": [
    "## Definición del Modelo"
   ]
  },
  {
   "cell_type": "markdown",
   "id": "1c663dfe",
   "metadata": {},
   "source": [
    "Paso 1: Configuración de la arquitectura de la RNN"
   ]
  },
  {
   "cell_type": "code",
   "execution_count": 37,
   "id": "e3988511",
   "metadata": {
    "ExecuteTime": {
     "end_time": "2023-06-22T03:45:49.668571Z",
     "start_time": "2023-06-22T03:45:49.316064Z"
    },
    "scrolled": true
   },
   "outputs": [
    {
     "name": "stdout",
     "output_type": "stream",
     "text": [
      "Model: \"sequential\"\n",
      "_________________________________________________________________\n",
      " Layer (type)                Output Shape              Param #   \n",
      "=================================================================\n",
      " lstm (LSTM)                 (None, 30, 50)            13200     \n",
      "                                                                 \n",
      " dropout (Dropout)           (None, 30, 50)            0         \n",
      "                                                                 \n",
      " lstm_1 (LSTM)               (None, 50)                20200     \n",
      "                                                                 \n",
      " dropout_1 (Dropout)         (None, 50)                0         \n",
      "                                                                 \n",
      " dense (Dense)               (None, 32)                1632      \n",
      "                                                                 \n",
      " dense_1 (Dense)             (None, 1)                 33        \n",
      "                                                                 \n",
      "=================================================================\n",
      "Total params: 35,065\n",
      "Trainable params: 35,065\n",
      "Non-trainable params: 0\n",
      "_________________________________________________________________\n"
     ]
    }
   ],
   "source": [
    "def build_model(input_shape):\n",
    "    \"\"\"\n",
    "    Construye y retorna un modelo de red LSTM.\n",
    "    \n",
    "    Parameters:\n",
    "    input_shape (tuple): Forma de los datos de entrada, por lo general (lookback, numero_de_caracteristicas).\n",
    "    \n",
    "    Returns:\n",
    "    model (Sequential): Modelo de red LSTM.\n",
    "    \"\"\"\n",
    "    \n",
    "    model = Sequential()\n",
    "    \n",
    "    # Capa LSTM\n",
    "    model.add(LSTM(50, input_shape=input_shape, return_sequences=True))\n",
    "    model.add(Dropout(0.2))\n",
    "\n",
    "    # Capa LSTM adicional\n",
    "    model.add(LSTM(50, return_sequences=False))\n",
    "    model.add(Dropout(0.2))\n",
    "\n",
    "    # Capa densa\n",
    "    model.add(Dense(32, activation='relu'))\n",
    "    \n",
    "    # Capa de salida\n",
    "    model.add(Dense(1, activation='linear'))\n",
    "\n",
    "    return model\n",
    "\n",
    "# Crear el modelo\n",
    "lookback = 30  # número de pasos temporales a mirar hacia atrás\n",
    "num_features = dfDelitosNew_relevant.shape[1]  # número de características en los datos\n",
    "model = build_model((lookback, num_features))\n",
    "\n",
    "# Compilar el modelo\n",
    "model.compile(optimizer='adam', loss='mean_squared_error')\n",
    "\n",
    "# Mostrar el resumen del modelo\n",
    "model.summary()"
   ]
  },
  {
   "cell_type": "markdown",
   "id": "a2f2a740",
   "metadata": {},
   "source": [
    "Este es un resumen de la arquitectura del modelo de red neuronal recurrente (RNN) utilizado para predecir las incidencias de delitos en Bogotá. Aquí, cada línea representa una capa en la red, incluyendo su tipo, su salida y el número de parámetros entrenables.\n",
    "\n",
    "Capa LSTM (lstm): Esta es la primera capa LSTM en la red. Esta capa procesa la secuencia de entrada y genera una secuencia de salida de la misma longitud (30, que es el número de pasos de tiempo en cada muestra) con 50 características en cada paso de tiempo. Esta capa tiene 13,200 parámetros entrenables.\n",
    "\n",
    "Capa de Dropout (dropout): Esta es una capa de Dropout que desactiva aleatoriamente el 20% de las unidades en la capa LSTM anterior durante cada paso de actualización en el entrenamiento, proporcionando robustez al modelo. Esta capa no tiene parámetros entrenables.\n",
    "\n",
    "Segunda Capa LSTM (lstm_1): Esta es la segunda capa LSTM en la red. Dado que la primera capa LSTM genera una secuencia de salidas, esta capa puede continuar aprendiendo de la secuencia completa de información temporal. Al igual que la primera capa LSTM, esta capa tiene 50 unidades, pero la salida es una única muestra de 50 características, en lugar de una secuencia. Esta capa tiene 20,200 parámetros entrenables.\n",
    "\n",
    "Segunda Capa de Dropout (dropout_1): Esta es otra capa de Dropout que desactiva aleatoriamente el 20% de las unidades en la segunda capa LSTM durante cada paso de actualización en el entrenamiento. Al igual que la primera capa de Dropout, esta capa no tiene parámetros entrenables.\n",
    "\n",
    "Capa Densa (dense): Esta es la primera capa completamente conectada (o densa). Toma la salida de la segunda capa LSTM (una muestra de 50 características) y la transforma en 32 características. Esta capa tiene 1,632 parámetros entrenables.\n",
    "\n",
    "Segunda Capa Densa (dense_1): Esta es la segunda y última capa densa, que actúa como la capa de salida del modelo. Toma las 32 características de la capa densa anterior y genera una única salida, que es la predicción del modelo para la incidencia de delitos. Esta capa tiene 33 parámetros entrenables.\n",
    "\n",
    "En resumen, el modelo consta de 6 capas con un total de 35,065 parámetros entrenables. Cada uno de estos parámetros representa un aspecto del aprendizaje del modelo a partir de los datos de entrenamiento. El modelo utilizará estos parámetros durante el entrenamiento para ajustar sus predicciones y minimizar la función de pérdida."
   ]
  },
  {
   "cell_type": "markdown",
   "id": "829c7da6",
   "metadata": {},
   "source": [
    "Paso 2: Compilación del modelo"
   ]
  },
  {
   "cell_type": "code",
   "execution_count": 38,
   "id": "b2864634",
   "metadata": {
    "ExecuteTime": {
     "end_time": "2023-06-22T03:45:57.062074Z",
     "start_time": "2023-06-22T03:45:55.170046Z"
    }
   },
   "outputs": [
    {
     "data": {
      "image/png": "[encoded data removed]",
      "text/plain": [
       "<IPython.core.display.Image object>"
      ]
     },
     "execution_count": 38,
     "metadata": {},
     "output_type": "execute_result"
    }
   ],
   "source": [
    "from tensorflow.keras.utils import plot_model\n",
    "\n",
    "plot_model(model, to_file='model.png', show_shapes=True)"
   ]
  },
  {
   "cell_type": "markdown",
   "id": "9fa70a2a",
   "metadata": {},
   "source": [
    "input : [(None, 30,15)]: Esto describe la forma de los datos de entrada que se alimentan a la capa. Aquí, \"(None, 30, 15)\" indica que la capa de entrada espera datos en forma de un tensor de 3 dimensiones.\n",
    "\n",
    "\"None\" indica que esta dimensión puede ser de cualquier longitud, que en este caso corresponde al número de muestras en los datos de entrada. Durante el entrenamiento, este número podría ser el tamaño del lote de los datos de entrenamiento. Durante la predicción, este número sería la cantidad de ejemplos que se están prediciendo a la vez.\n",
    "\n",
    "\"30\" corresponde a la longitud de las secuencias de tiempo en los datos de entrada. En este caso, cada secuencia de tiempo consta de 30 pasos.\n",
    "\n",
    "\"15\" corresponde a la cantidad de características en cada paso de tiempo. En este caso, cada paso de tiempo en la secuencia tiene 15 características distintas.\n",
    "\n",
    "\"50\" corresponde a la cantidad de unidades en la capa LSTM. Este número es una medida de la \"capacidad\" de la capa LSTM para aprender patrones en los datos.\n",
    "\n",
    "output: (None, 32): Esto describe la forma de los datos de salida de la capa densa. (None, 32) indica que la capa densa produce datos en la forma de un tensor de 2 dimensiones. \"None\" indica que esta dimensión puede ser de cualquier longitud, y \"32\" es el número de unidades en la capa densa.\n",
    "\n",
    "La capa densa toma la salida de la capa de Dropout anterior, aplica una transformación lineal seguida de una función de activación (en este caso, la función de activación es ReLU), y produce una salida de forma (None, 32).\n",
    "\n",
    "output: (None, 1): Esto describe la forma de los datos de salida de la capa densa. (None, 1) indica que la capa densa produce datos en la forma de un tensor de 2 dimensiones. \"None\" indica que esta dimensión puede ser de cualquier longitud, y \"1\" es el número de unidades en la capa densa. Este \"1\" es crítico porque nuestro objetivo es realizar una tarea de regresión, prediciendo un solo valor continuo (el crimen futuro), por lo que necesitamos una sola unidad de salida.\n",
    "\n",
    "En resumen, la capa densa toma la salida de la capa densa anterior, aplica una transformación lineal seguida de una función de activación (en este caso, la función de activación es lineal ya que se trata de la última capa y estamos realizando una tarea de regresión), y produce una salida de forma (None, 1).\n",
    "\n",
    "\n",
    "El flujo de datos a través del modelo de red neuronal recurrente (RNN) es el siguiente:\n",
    "\n",
    "1. **Capa LSTM**: La entrada a la red es una secuencia temporal de longitud 30 y con 15 características (None, 30, 15). La primera capa LSTM procesa estos datos y genera una salida para cada paso de tiempo en la secuencia, dando como resultado un tensor de forma (None, 30, 50). Las 50 unidades en esta capa permiten aprender y representar una variedad de características importantes en los datos de entrada.\n",
    "\n",
    "2. **Capa de Dropout**: A continuación, los datos pasan por una capa de Dropout, que \"desactiva\" aleatoriamente un porcentaje (20%) de las unidades en la salida de la capa LSTM para evitar el sobreajuste. La forma de los datos no cambia en esta capa, por lo que la salida sigue siendo (None, 30, 50).\n",
    "\n",
    "3. **Segunda Capa LSTM**: Los datos luego pasan a través de una segunda capa LSTM con 50 unidades. Sin embargo, en esta capa, sólo estamos interesados en la salida del último paso de tiempo, por lo que la forma de los datos se reduce a (None, 50).\n",
    "\n",
    "4. **Segunda Capa de Dropout**: Al igual que con la primera capa de Dropout, esta capa desactiva un porcentaje de las unidades para evitar el sobreajuste. La forma de los datos no cambia en esta capa, por lo que la salida sigue siendo (None, 50).\n",
    "\n",
    "5. **Capa Densa**: Los datos son procesados por una capa densa, que es capaz de aprender patrones no lineales a partir de sus entradas. En este caso, la capa tiene 32 unidades, por lo que la forma de los datos se convierte en (None, 32).\n",
    "\n",
    "6. **Capa Densa de Salida**: Finalmente, los datos son procesados por una segunda capa densa. Esta capa tiene una sola unidad y una función de activación lineal, lo que la hace adecuada para producir un único valor de salida para nuestra tarea de regresión. Por lo tanto, la forma final de los datos es (None, 1), que es exactamente lo que queremos: una predicción única de la tasa de crimen futuro para cada secuencia en los datos de entrada.\n",
    "\n"
   ]
  },
  {
   "cell_type": "markdown",
   "id": "bcb6189b",
   "metadata": {},
   "source": [
    "## Entrenamiento del modelo"
   ]
  },
  {
   "cell_type": "code",
   "execution_count": 39,
   "id": "1c7070b7",
   "metadata": {
    "ExecuteTime": {
     "end_time": "2023-06-22T03:50:30.539879Z",
     "start_time": "2023-06-22T03:46:04.683753Z"
    }
   },
   "outputs": [
    {
     "name": "stderr",
     "output_type": "stream",
     "text": [
      "C:\\ProgramData\\Anaconda3\\lib\\site-packages\\keras\\optimizer_v2\\adam.py:105: UserWarning: The `lr` argument is deprecated, use `learning_rate` instead.\n",
      "  super(Adam, self).__init__(name, **kwargs)\n"
     ]
    },
    {
     "data": {
      "text/html": [
       "<div>\n",
       "<style scoped>\n",
       "    .dataframe tbody tr th:only-of-type {\n",
       "        vertical-align: middle;\n",
       "    }\n",
       "\n",
       "    .dataframe tbody tr th {\n",
       "        vertical-align: top;\n",
       "    }\n",
       "\n",
       "    .dataframe thead th {\n",
       "        text-align: right;\n",
       "    }\n",
       "</style>\n",
       "<table border=\"1\" class=\"dataframe\">\n",
       "  <thead>\n",
       "    <tr style=\"text-align: right;\">\n",
       "      <th></th>\n",
       "      <th>learning_rate</th>\n",
       "      <th>batch_size</th>\n",
       "      <th>epochs</th>\n",
       "      <th>final_val_loss</th>\n",
       "    </tr>\n",
       "  </thead>\n",
       "  <tbody>\n",
       "    <tr>\n",
       "      <th>3</th>\n",
       "      <td>0.001</td>\n",
       "      <td>32</td>\n",
       "      <td>200</td>\n",
       "      <td>48.505966</td>\n",
       "    </tr>\n",
       "    <tr>\n",
       "      <th>2</th>\n",
       "      <td>0.001</td>\n",
       "      <td>64</td>\n",
       "      <td>150</td>\n",
       "      <td>48.507645</td>\n",
       "    </tr>\n",
       "    <tr>\n",
       "      <th>1</th>\n",
       "      <td>0.010</td>\n",
       "      <td>32</td>\n",
       "      <td>100</td>\n",
       "      <td>48.508430</td>\n",
       "    </tr>\n",
       "    <tr>\n",
       "      <th>0</th>\n",
       "      <td>0.100</td>\n",
       "      <td>16</td>\n",
       "      <td>50</td>\n",
       "      <td>48.515038</td>\n",
       "    </tr>\n",
       "  </tbody>\n",
       "</table>\n",
       "</div>"
      ],
      "text/plain": [
       "   learning_rate  batch_size  epochs  final_val_loss\n",
       "3          0.001          32     200       48.505966\n",
       "2          0.001          64     150       48.507645\n",
       "1          0.010          32     100       48.508430\n",
       "0          0.100          16      50       48.515038"
      ]
     },
     "execution_count": 39,
     "metadata": {},
     "output_type": "execute_result"
    }
   ],
   "source": [
    "# Hiperparámetros que vamos a explorar\n",
    "epochs_numbers = [50, 100, 150, 200]\n",
    "learning_rates = [0.1, 0.01, 0.001, 0.001]\n",
    "batch_sizes = [16, 32, 64, 32]\n",
    "\n",
    "# Comprobar que todas las listas tienen la misma longitud\n",
    "assert len(epochs_numbers) == len(learning_rates) == len(batch_sizes)\n",
    "\n",
    "# Lista para guardar los resultados de cada configuración\n",
    "results = []\n",
    "\n",
    "# Bucle a través de los índices de las listas\n",
    "for i in range(len(epochs_numbers)):\n",
    "    \n",
    "    # Recuperar los hiperparámetros para esta configuración\n",
    "    ep = epochs_numbers[i]\n",
    "    lr = learning_rates[i]\n",
    "    bs = batch_sizes[i]\n",
    "    \n",
    "    # Compilación del modelo\n",
    "    model.compile(optimizer=Adam(lr=lr), loss='mean_squared_error')\n",
    "\n",
    "    # Entrenamiento del modelo\n",
    "    history = model.fit(X_train, y_train, epochs=ep, batch_size=bs, \n",
    "                        validation_data=(X_val, y_val), verbose=0)\n",
    "    \n",
    "    # Obtener el error de validación al final del entrenamiento\n",
    "    final_val_loss = history.history['val_loss'][-1]\n",
    "    \n",
    "    # Guardar los resultados\n",
    "    results.append({\n",
    "        'learning_rate': lr,\n",
    "        'batch_size': bs,\n",
    "        'epochs': ep,\n",
    "        'final_val_loss': final_val_loss\n",
    "    })\n",
    "\n",
    "# Convertir los resultados en un DataFrame para facilitar su visualización\n",
    "results_df = pd.DataFrame(results)\n",
    "\n",
    "# Mostrar los resultados ordenados por el error de validación\n",
    "results_df.sort_values('final_val_loss')\n"
   ]
  },
  {
   "cell_type": "code",
   "execution_count": 42,
   "id": "410b6fb8",
   "metadata": {
    "ExecuteTime": {
     "end_time": "2023-06-22T04:33:30.525302Z",
     "start_time": "2023-06-22T04:33:30.423306Z"
    }
   },
   "outputs": [
    {
     "data": {
      "image/png": "[encoded data removed]",
      "text/plain": [
       "<Figure size 864x432 with 1 Axes>"
      ]
     },
     "metadata": {
      "needs_background": "light"
     },
     "output_type": "display_data"
    }
   ],
   "source": [
    "import matplotlib.pyplot as plt\n",
    "\n",
    "# Plot del Loss\n",
    "plt.figure(figsize=(12,6))\n",
    "plt.plot(history.history['loss'], label='Train loss')\n",
    "plt.plot(history.history['val_loss'], label='Validation loss')\n",
    "plt.title('Loss over epochs')\n",
    "plt.ylabel('Loss')\n",
    "plt.xlabel('Epoch')\n",
    "plt.legend(loc='upper right')\n",
    "plt.show()\n"
   ]
  },
  {
   "cell_type": "code",
   "execution_count": 43,
   "id": "b168beec",
   "metadata": {
    "ExecuteTime": {
     "end_time": "2023-06-22T04:33:39.656204Z",
     "start_time": "2023-06-22T04:33:39.653203Z"
    }
   },
   "outputs": [
    {
     "name": "stdout",
     "output_type": "stream",
     "text": [
      "Final training loss:  43.39973449707031\n",
      "Final validation loss:  48.50596618652344\n"
     ]
    }
   ],
   "source": [
    "print('Final training loss: ', history.history['loss'][-1])\n",
    "print('Final validation loss: ', history.history['val_loss'][-1])"
   ]
  },
  {
   "cell_type": "markdown",
   "id": "1c5352e2",
   "metadata": {},
   "source": [
    "### optimización bayesiana "
   ]
  },
  {
   "cell_type": "code",
   "execution_count": 59,
   "id": "83b1c625",
   "metadata": {
    "ExecuteTime": {
     "end_time": "2023-06-22T04:56:19.246301Z",
     "start_time": "2023-06-22T04:56:19.201303Z"
    }
   },
   "outputs": [
    {
     "name": "stdout",
     "output_type": "stream",
     "text": [
      "INFO:tensorflow:Reloading Tuner from my_dir\\helloworld\\tuner0.json\n",
      "Search space summary\n",
      "Default search space size: 8\n",
      "lstm_units (Int)\n",
      "{'default': None, 'conditions': [], 'min_value': 30, 'max_value': 70, 'step': 10, 'sampling': 'linear'}\n",
      "dropout_1 (Float)\n",
      "{'default': 0.0, 'conditions': [], 'min_value': 0.0, 'max_value': 0.5, 'step': 0.1, 'sampling': 'linear'}\n",
      "dropout_2 (Float)\n",
      "{'default': 0.0, 'conditions': [], 'min_value': 0.0, 'max_value': 0.5, 'step': 0.1, 'sampling': 'linear'}\n",
      "dense_units (Int)\n",
      "{'default': None, 'conditions': [], 'min_value': 20, 'max_value': 50, 'step': 10, 'sampling': 'linear'}\n",
      "learning_rate (Choice)\n",
      "{'default': 0.01, 'conditions': [], 'values': [0.01, 0.001, 0.0001], 'ordered': True}\n",
      "units (Int)\n",
      "{'default': None, 'conditions': [], 'min_value': 30, 'max_value': 60, 'step': 10, 'sampling': 'linear'}\n",
      "dropout (Float)\n",
      "{'default': 0.1, 'conditions': [], 'min_value': 0.1, 'max_value': 0.5, 'step': 0.1, 'sampling': 'linear'}\n",
      "units_dense (Int)\n",
      "{'default': None, 'conditions': [], 'min_value': 10, 'max_value': 50, 'step': 10, 'sampling': 'linear'}\n",
      "INFO:tensorflow:Oracle triggered exit\n",
      "Results summary\n",
      "Results in my_dir\\helloworld\n",
      "Showing 10 best trials\n",
      "Objective(name=\"val_loss\", direction=\"min\")\n",
      "\n",
      "Trial 07 summary\n",
      "Hyperparameters:\n",
      "lstm_units: 70\n",
      "dropout_1: 0.4\n",
      "dropout_2: 0.30000000000000004\n",
      "dense_units: 40\n",
      "learning_rate: 0.01\n",
      "units: 60\n",
      "dropout: 0.4\n",
      "units_dense: 20\n",
      "Score: -32880.40625\n",
      "\n",
      "Trial 08 summary\n",
      "Hyperparameters:\n",
      "lstm_units: 70\n",
      "dropout_1: 0.2\n",
      "dropout_2: 0.30000000000000004\n",
      "dense_units: 20\n",
      "learning_rate: 0.01\n",
      "units: 40\n",
      "dropout: 0.2\n",
      "units_dense: 10\n",
      "Score: -15119.154296875\n",
      "\n",
      "Trial 06 summary\n",
      "Hyperparameters:\n",
      "lstm_units: 60\n",
      "dropout_1: 0.30000000000000004\n",
      "dropout_2: 0.4\n",
      "dense_units: 50\n",
      "learning_rate: 0.001\n",
      "units: 30\n",
      "dropout: 0.4\n",
      "units_dense: 40\n",
      "Score: -809.1931762695312\n",
      "\n",
      "Trial 05 summary\n",
      "Hyperparameters:\n",
      "lstm_units: 70\n",
      "dropout_1: 0.4\n",
      "dropout_2: 0.1\n",
      "dense_units: 40\n",
      "learning_rate: 0.0001\n",
      "units: 30\n",
      "dropout: 0.1\n",
      "units_dense: 10\n",
      "Score: -34.47567367553711\n",
      "\n",
      "Trial 09 summary\n",
      "Hyperparameters:\n",
      "lstm_units: 30\n",
      "dropout_1: 0.1\n",
      "dropout_2: 0.0\n",
      "dense_units: 40\n",
      "learning_rate: 0.0001\n",
      "units: 40\n",
      "dropout: 0.5\n",
      "units_dense: 30\n",
      "Score: -33.69954299926758\n",
      "\n",
      "Trial 0 summary\n",
      "Hyperparameters:\n",
      "lstm_units: 70\n",
      "dropout_1: 0.1\n",
      "dropout_2: 0.30000000000000004\n",
      "dense_units: 40\n",
      "learning_rate: 0.0001\n",
      "Score: 48.49562327067057\n",
      "\n",
      "Trial 2 summary\n",
      "Hyperparameters:\n",
      "lstm_units: 60\n",
      "dropout_1: 0.0\n",
      "dropout_2: 0.1\n",
      "dense_units: 40\n",
      "learning_rate: 0.0001\n",
      "Score: 48.50231424967448\n",
      "\n",
      "Trial 1 summary\n",
      "Hyperparameters:\n",
      "lstm_units: 50\n",
      "dropout_1: 0.1\n",
      "dropout_2: 0.2\n",
      "dense_units: 50\n",
      "learning_rate: 0.01\n",
      "Score: 48.523248036702476\n",
      "\n",
      "Trial 3 summary\n",
      "Hyperparameters:\n",
      "lstm_units: 60\n",
      "dropout_1: 0.2\n",
      "dropout_2: 0.4\n",
      "dense_units: 50\n",
      "learning_rate: 0.001\n",
      "Score: 48.55525334676107\n",
      "\n",
      "Trial 4 summary\n",
      "Hyperparameters:\n",
      "lstm_units: 40\n",
      "dropout_1: 0.30000000000000004\n",
      "dropout_2: 0.4\n",
      "dense_units: 20\n",
      "learning_rate: 0.0001\n",
      "Score: 49.411755879720054\n"
     ]
    }
   ],
   "source": [
    "from keras_tuner import BayesianOptimization\n",
    "\n",
    "def build_model_bayes(hp):\n",
    "    model = Sequential()\n",
    "    num_labels = len(np.unique(y))\n",
    "\n",
    "\n",
    "    # Capa LSTM\n",
    "    model.add(LSTM(units=hp.Int('units', min_value=30, max_value=60, step=10),\n",
    "                   input_shape=(lookback, num_features), return_sequences=True))\n",
    "    model.add(Dropout(rate=hp.Float('dropout', min_value=0.1, max_value=0.5, step=0.1)))\n",
    "\n",
    "    # Capa LSTM adicional\n",
    "    model.add(LSTM(units=hp.Int('units', min_value=30, max_value=60, step=10),\n",
    "                   return_sequences=False))\n",
    "    model.add(Dropout(rate=hp.Float('dropout', min_value=0.1, max_value=0.5, step=0.1)))\n",
    "\n",
    "    # Capa densa\n",
    "    model.add(Dense(units=hp.Int('units_dense', min_value=10, max_value=50, step=10), \n",
    "                    activation='relu'))\n",
    "\n",
    "    # Capa de salida\n",
    "    model.add(Dense(num_labels, activation='sigmoid'))  \n",
    "\n",
    "    # Compilar el modelo\n",
    "    model.compile(optimizer=Adam(hp.Float('learning_rate', min_value=1e-4, max_value=1e-2, sampling='LOG')), \n",
    "                  loss='binary_crossentropy')\n",
    "\n",
    "    return model\n",
    "\n",
    "tuner = BayesianOptimization(\n",
    "    build_model_bayes,\n",
    "    objective='val_loss',\n",
    "    max_trials=10,  # número de modelos a probar\n",
    "    executions_per_trial=1,  # número de entrenamientos por modelo\n",
    "    directory='my_dir',  # el directorio donde se almacenan los resultados de la sintonización\n",
    "    project_name='helloworld'  # el nombre del proyecto, para distinguir entre diferentes sesiones de sintonización\n",
    ")\n",
    "\n",
    "tuner.search_space_summary()\n",
    "\n",
    "tuner.search(X_train, y_train, epochs=5, validation_data=(X_val, y_val))\n",
    "\n",
    "tuner.results_summary()"
   ]
  },
  {
   "cell_type": "markdown",
   "id": "14f6f90f",
   "metadata": {},
   "source": [
    "Mejores hiperparametros"
   ]
  },
  {
   "cell_type": "code",
   "execution_count": 60,
   "id": "b009e170",
   "metadata": {
    "ExecuteTime": {
     "end_time": "2023-06-22T04:56:20.916260Z",
     "start_time": "2023-06-22T04:56:20.287260Z"
    }
   },
   "outputs": [
    {
     "name": "stdout",
     "output_type": "stream",
     "text": [
      "WARNING:tensorflow:Unresolved object in checkpoint: (root).optimizer.iter\n",
      "WARNING:tensorflow:Unresolved object in checkpoint: (root).optimizer.beta_1\n",
      "WARNING:tensorflow:Unresolved object in checkpoint: (root).optimizer.beta_2\n",
      "WARNING:tensorflow:Unresolved object in checkpoint: (root).optimizer.decay\n",
      "WARNING:tensorflow:Unresolved object in checkpoint: (root).optimizer.learning_rate\n",
      "WARNING:tensorflow:A checkpoint was restored (e.g. tf.train.Checkpoint.restore or tf.keras.Model.load_weights) but not all checkpointed values were used. See above for specific issues. Use expect_partial() on the load status object, e.g. tf.train.Checkpoint.restore(...).expect_partial(), to silence these warnings, or use assert_consumed() to make the check explicit. See https://www.tensorflow.org/guide/checkpoint#loading_mechanics for details.\n"
     ]
    },
    {
     "ename": "ValueError",
     "evalue": "Shapes (15, 240) and (9, 240) are incompatible",
     "output_type": "error",
     "traceback": [
      "\u001b[1;31m---------------------------------------------------------------------------\u001b[0m",
      "\u001b[1;31mValueError\u001b[0m                                Traceback (most recent call last)",
      "\u001b[1;32mC:\\Users\\ANDRES~1\\AppData\\Local\\Temp/ipykernel_23428/1668635806.py\u001b[0m in \u001b[0;36m<module>\u001b[1;34m\u001b[0m\n\u001b[0;32m      5\u001b[0m \u001b[1;33m\u001b[0m\u001b[0m\n\u001b[0;32m      6\u001b[0m \u001b[1;31m# Obtiene el modelo con los mejores hiperparámetros.\u001b[0m\u001b[1;33m\u001b[0m\u001b[1;33m\u001b[0m\u001b[0m\n\u001b[1;32m----> 7\u001b[1;33m \u001b[0mbest_model\u001b[0m \u001b[1;33m=\u001b[0m \u001b[0mtuner\u001b[0m\u001b[1;33m.\u001b[0m\u001b[0mget_best_models\u001b[0m\u001b[1;33m(\u001b[0m\u001b[0mnum_models\u001b[0m\u001b[1;33m=\u001b[0m\u001b[1;36m1\u001b[0m\u001b[1;33m)\u001b[0m\u001b[1;33m[\u001b[0m\u001b[1;36m0\u001b[0m\u001b[1;33m]\u001b[0m\u001b[1;33m\u001b[0m\u001b[1;33m\u001b[0m\u001b[0m\n\u001b[0m\u001b[0;32m      8\u001b[0m \u001b[1;33m\u001b[0m\u001b[0m\n\u001b[0;32m      9\u001b[0m \u001b[1;31m# Evalúa el mejor modelo con los datos de validación.\u001b[0m\u001b[1;33m\u001b[0m\u001b[1;33m\u001b[0m\u001b[0m\n",
      "\u001b[1;32mC:\\ProgramData\\Anaconda3\\lib\\site-packages\\keras_tuner\\engine\\tuner.py\u001b[0m in \u001b[0;36mget_best_models\u001b[1;34m(self, num_models)\u001b[0m\n\u001b[0;32m    364\u001b[0m         \"\"\"\n\u001b[0;32m    365\u001b[0m         \u001b[1;31m# Method only exists in this class for the docstring override.\u001b[0m\u001b[1;33m\u001b[0m\u001b[1;33m\u001b[0m\u001b[0m\n\u001b[1;32m--> 366\u001b[1;33m         \u001b[1;32mreturn\u001b[0m \u001b[0msuper\u001b[0m\u001b[1;33m(\u001b[0m\u001b[1;33m)\u001b[0m\u001b[1;33m.\u001b[0m\u001b[0mget_best_models\u001b[0m\u001b[1;33m(\u001b[0m\u001b[0mnum_models\u001b[0m\u001b[1;33m)\u001b[0m\u001b[1;33m\u001b[0m\u001b[1;33m\u001b[0m\u001b[0m\n\u001b[0m\u001b[0;32m    367\u001b[0m \u001b[1;33m\u001b[0m\u001b[0m\n\u001b[0;32m    368\u001b[0m     \u001b[1;32mdef\u001b[0m \u001b[0m_deepcopy_callbacks\u001b[0m\u001b[1;33m(\u001b[0m\u001b[0mself\u001b[0m\u001b[1;33m,\u001b[0m \u001b[0mcallbacks\u001b[0m\u001b[1;33m)\u001b[0m\u001b[1;33m:\u001b[0m\u001b[1;33m\u001b[0m\u001b[1;33m\u001b[0m\u001b[0m\n",
      "\u001b[1;32mC:\\ProgramData\\Anaconda3\\lib\\site-packages\\keras_tuner\\engine\\base_tuner.py\u001b[0m in \u001b[0;36mget_best_models\u001b[1;34m(self, num_models)\u001b[0m\n\u001b[0;32m    362\u001b[0m         \"\"\"\n\u001b[0;32m    363\u001b[0m         \u001b[0mbest_trials\u001b[0m \u001b[1;33m=\u001b[0m \u001b[0mself\u001b[0m\u001b[1;33m.\u001b[0m\u001b[0moracle\u001b[0m\u001b[1;33m.\u001b[0m\u001b[0mget_best_trials\u001b[0m\u001b[1;33m(\u001b[0m\u001b[0mnum_models\u001b[0m\u001b[1;33m)\u001b[0m\u001b[1;33m\u001b[0m\u001b[1;33m\u001b[0m\u001b[0m\n\u001b[1;32m--> 364\u001b[1;33m         \u001b[0mmodels\u001b[0m \u001b[1;33m=\u001b[0m \u001b[1;33m[\u001b[0m\u001b[0mself\u001b[0m\u001b[1;33m.\u001b[0m\u001b[0mload_model\u001b[0m\u001b[1;33m(\u001b[0m\u001b[0mtrial\u001b[0m\u001b[1;33m)\u001b[0m \u001b[1;32mfor\u001b[0m \u001b[0mtrial\u001b[0m \u001b[1;32min\u001b[0m \u001b[0mbest_trials\u001b[0m\u001b[1;33m]\u001b[0m\u001b[1;33m\u001b[0m\u001b[1;33m\u001b[0m\u001b[0m\n\u001b[0m\u001b[0;32m    365\u001b[0m         \u001b[1;32mreturn\u001b[0m \u001b[0mmodels\u001b[0m\u001b[1;33m\u001b[0m\u001b[1;33m\u001b[0m\u001b[0m\n\u001b[0;32m    366\u001b[0m \u001b[1;33m\u001b[0m\u001b[0m\n",
      "\u001b[1;32mC:\\ProgramData\\Anaconda3\\lib\\site-packages\\keras_tuner\\engine\\base_tuner.py\u001b[0m in \u001b[0;36m<listcomp>\u001b[1;34m(.0)\u001b[0m\n\u001b[0;32m    362\u001b[0m         \"\"\"\n\u001b[0;32m    363\u001b[0m         \u001b[0mbest_trials\u001b[0m \u001b[1;33m=\u001b[0m \u001b[0mself\u001b[0m\u001b[1;33m.\u001b[0m\u001b[0moracle\u001b[0m\u001b[1;33m.\u001b[0m\u001b[0mget_best_trials\u001b[0m\u001b[1;33m(\u001b[0m\u001b[0mnum_models\u001b[0m\u001b[1;33m)\u001b[0m\u001b[1;33m\u001b[0m\u001b[1;33m\u001b[0m\u001b[0m\n\u001b[1;32m--> 364\u001b[1;33m         \u001b[0mmodels\u001b[0m \u001b[1;33m=\u001b[0m \u001b[1;33m[\u001b[0m\u001b[0mself\u001b[0m\u001b[1;33m.\u001b[0m\u001b[0mload_model\u001b[0m\u001b[1;33m(\u001b[0m\u001b[0mtrial\u001b[0m\u001b[1;33m)\u001b[0m \u001b[1;32mfor\u001b[0m \u001b[0mtrial\u001b[0m \u001b[1;32min\u001b[0m \u001b[0mbest_trials\u001b[0m\u001b[1;33m]\u001b[0m\u001b[1;33m\u001b[0m\u001b[1;33m\u001b[0m\u001b[0m\n\u001b[0m\u001b[0;32m    365\u001b[0m         \u001b[1;32mreturn\u001b[0m \u001b[0mmodels\u001b[0m\u001b[1;33m\u001b[0m\u001b[1;33m\u001b[0m\u001b[0m\n\u001b[0;32m    366\u001b[0m \u001b[1;33m\u001b[0m\u001b[0m\n",
      "\u001b[1;32mC:\\ProgramData\\Anaconda3\\lib\\site-packages\\keras_tuner\\engine\\tuner.py\u001b[0m in \u001b[0;36mload_model\u001b[1;34m(self, trial)\u001b[0m\n\u001b[0;32m    295\u001b[0m         \u001b[1;31m# Only load weights to avoid loading `custom_objects`.\u001b[0m\u001b[1;33m\u001b[0m\u001b[1;33m\u001b[0m\u001b[0m\n\u001b[0;32m    296\u001b[0m         \u001b[1;32mwith\u001b[0m \u001b[0mmaybe_distribute\u001b[0m\u001b[1;33m(\u001b[0m\u001b[0mself\u001b[0m\u001b[1;33m.\u001b[0m\u001b[0mdistribution_strategy\u001b[0m\u001b[1;33m)\u001b[0m\u001b[1;33m:\u001b[0m\u001b[1;33m\u001b[0m\u001b[1;33m\u001b[0m\u001b[0m\n\u001b[1;32m--> 297\u001b[1;33m             \u001b[0mmodel\u001b[0m\u001b[1;33m.\u001b[0m\u001b[0mload_weights\u001b[0m\u001b[1;33m(\u001b[0m\u001b[0mself\u001b[0m\u001b[1;33m.\u001b[0m\u001b[0m_get_checkpoint_fname\u001b[0m\u001b[1;33m(\u001b[0m\u001b[0mtrial\u001b[0m\u001b[1;33m.\u001b[0m\u001b[0mtrial_id\u001b[0m\u001b[1;33m)\u001b[0m\u001b[1;33m)\u001b[0m\u001b[1;33m\u001b[0m\u001b[1;33m\u001b[0m\u001b[0m\n\u001b[0m\u001b[0;32m    298\u001b[0m         \u001b[1;32mreturn\u001b[0m \u001b[0mmodel\u001b[0m\u001b[1;33m\u001b[0m\u001b[1;33m\u001b[0m\u001b[0m\n\u001b[0;32m    299\u001b[0m \u001b[1;33m\u001b[0m\u001b[0m\n",
      "\u001b[1;32mC:\\ProgramData\\Anaconda3\\lib\\site-packages\\keras\\utils\\traceback_utils.py\u001b[0m in \u001b[0;36merror_handler\u001b[1;34m(*args, **kwargs)\u001b[0m\n\u001b[0;32m     65\u001b[0m     \u001b[1;32mexcept\u001b[0m \u001b[0mException\u001b[0m \u001b[1;32mas\u001b[0m \u001b[0me\u001b[0m\u001b[1;33m:\u001b[0m  \u001b[1;31m# pylint: disable=broad-except\u001b[0m\u001b[1;33m\u001b[0m\u001b[1;33m\u001b[0m\u001b[0m\n\u001b[0;32m     66\u001b[0m       \u001b[0mfiltered_tb\u001b[0m \u001b[1;33m=\u001b[0m \u001b[0m_process_traceback_frames\u001b[0m\u001b[1;33m(\u001b[0m\u001b[0me\u001b[0m\u001b[1;33m.\u001b[0m\u001b[0m__traceback__\u001b[0m\u001b[1;33m)\u001b[0m\u001b[1;33m\u001b[0m\u001b[1;33m\u001b[0m\u001b[0m\n\u001b[1;32m---> 67\u001b[1;33m       \u001b[1;32mraise\u001b[0m \u001b[0me\u001b[0m\u001b[1;33m.\u001b[0m\u001b[0mwith_traceback\u001b[0m\u001b[1;33m(\u001b[0m\u001b[0mfiltered_tb\u001b[0m\u001b[1;33m)\u001b[0m \u001b[1;32mfrom\u001b[0m \u001b[1;32mNone\u001b[0m\u001b[1;33m\u001b[0m\u001b[1;33m\u001b[0m\u001b[0m\n\u001b[0m\u001b[0;32m     68\u001b[0m     \u001b[1;32mfinally\u001b[0m\u001b[1;33m:\u001b[0m\u001b[1;33m\u001b[0m\u001b[1;33m\u001b[0m\u001b[0m\n\u001b[0;32m     69\u001b[0m       \u001b[1;32mdel\u001b[0m \u001b[0mfiltered_tb\u001b[0m\u001b[1;33m\u001b[0m\u001b[1;33m\u001b[0m\u001b[0m\n",
      "\u001b[1;32mC:\\ProgramData\\Anaconda3\\lib\\site-packages\\tensorflow\\python\\framework\\tensor_shape.py\u001b[0m in \u001b[0;36massert_is_compatible_with\u001b[1;34m(self, other)\u001b[0m\n\u001b[0;32m   1169\u001b[0m     \"\"\"\n\u001b[0;32m   1170\u001b[0m     \u001b[1;32mif\u001b[0m \u001b[1;32mnot\u001b[0m \u001b[0mself\u001b[0m\u001b[1;33m.\u001b[0m\u001b[0mis_compatible_with\u001b[0m\u001b[1;33m(\u001b[0m\u001b[0mother\u001b[0m\u001b[1;33m)\u001b[0m\u001b[1;33m:\u001b[0m\u001b[1;33m\u001b[0m\u001b[1;33m\u001b[0m\u001b[0m\n\u001b[1;32m-> 1171\u001b[1;33m       \u001b[1;32mraise\u001b[0m \u001b[0mValueError\u001b[0m\u001b[1;33m(\u001b[0m\u001b[1;34m\"Shapes %s and %s are incompatible\"\u001b[0m \u001b[1;33m%\u001b[0m \u001b[1;33m(\u001b[0m\u001b[0mself\u001b[0m\u001b[1;33m,\u001b[0m \u001b[0mother\u001b[0m\u001b[1;33m)\u001b[0m\u001b[1;33m)\u001b[0m\u001b[1;33m\u001b[0m\u001b[1;33m\u001b[0m\u001b[0m\n\u001b[0m\u001b[0;32m   1172\u001b[0m \u001b[1;33m\u001b[0m\u001b[0m\n\u001b[0;32m   1173\u001b[0m   \u001b[1;32mdef\u001b[0m \u001b[0mmost_specific_compatible_shape\u001b[0m\u001b[1;33m(\u001b[0m\u001b[0mself\u001b[0m\u001b[1;33m,\u001b[0m \u001b[0mother\u001b[0m\u001b[1;33m)\u001b[0m\u001b[1;33m:\u001b[0m\u001b[1;33m\u001b[0m\u001b[1;33m\u001b[0m\u001b[0m\n",
      "\u001b[1;31mValueError\u001b[0m: Shapes (15, 240) and (9, 240) are incompatible"
     ]
    }
   ],
   "source": [
    "import pandas as pd\n",
    "\n",
    "# Obteniendo los mejores hiperparámetros\n",
    "best_hps = tuner.get_best_hyperparameters(num_trials = 1)[0]\n",
    "\n",
    "# Obtiene el modelo con los mejores hiperparámetros.\n",
    "best_model = tuner.get_best_models(num_models=1)[0]\n",
    "\n",
    "# Evalúa el mejor modelo con los datos de validación.\n",
    "loss, mse = best_model.evaluate(X_val, y_val)\n",
    "\n",
    "# Creando un DataFrame para mostrar los resultados\n",
    "results = pd.DataFrame.from_dict({\n",
    "    'Hyperparameters': ['LSTM Units', 'Dropout 1', 'Dropout 2', 'Dense Units', 'Learning Rate', 'MSE'],\n",
    "    'Best Values': [\n",
    "        best_hps.get('lstm_units'), \n",
    "        best_hps.get('dropout_1'), \n",
    "        best_hps.get('dropout_2'), \n",
    "        best_hps.get('dense_units'), \n",
    "        best_hps.get('learning_rate'), \n",
    "        mse\n",
    "    ]\n",
    "})\n",
    "\n",
    "# Visualizando el DataFrame\n",
    "print(results)\n"
   ]
  },
  {
   "cell_type": "markdown",
   "id": "90344640",
   "metadata": {},
   "source": [
    "## Evaluación del modelo"
   ]
  },
  {
   "cell_type": "code",
   "execution_count": 62,
   "id": "0882f4bf",
   "metadata": {
    "ExecuteTime": {
     "end_time": "2023-06-22T05:03:41.606050Z",
     "start_time": "2023-06-22T05:03:41.589052Z"
    }
   },
   "outputs": [
    {
     "name": "stdout",
     "output_type": "stream",
     "text": [
      "[43.399658203125, 43.39966583251953, 43.399688720703125, 43.39971160888672, 43.3996696472168, 43.399654388427734, 43.399688720703125, 43.39968490600586, 43.399658203125, 43.399658203125, 43.39967727661133, 43.399696350097656, 43.39973449707031, 43.399662017822266, 43.39967346191406, 43.39973068237305, 43.399635314941406, 43.399688720703125, 43.39963150024414, 43.39973831176758, 43.39963912963867, 43.39969253540039, 43.39976501464844, 43.39968490600586, 43.399681091308594, 43.3996467590332, 43.399658203125, 43.3996696472168, 43.3996696472168, 43.3996696472168, 43.39967346191406, 43.39972686767578, 43.39970016479492, 43.3996696472168, 43.399654388427734, 43.39971160888672, 43.39970397949219, 43.399681091308594, 43.399627685546875, 43.399696350097656, 43.39963150024414, 43.39966583251953, 43.39968490600586, 43.399654388427734, 43.39970397949219, 43.39969253540039, 43.399654388427734, 43.39970016479492, 43.399658203125, 43.399681091308594, 43.39967346191406, 43.39963912963867, 43.399635314941406, 43.399654388427734, 43.39968490600586, 43.39960861206055, 43.39964294433594, 43.39966583251953, 43.399658203125, 43.39962387084961, 43.39970016479492, 43.39965057373047, 43.39963912963867, 43.399688720703125, 43.399658203125, 43.39968490600586, 43.399658203125, 43.39966583251953, 43.39963150024414, 43.39967727661133, 43.39968490600586, 43.39967346191406, 43.3996696472168, 43.39970016479492, 43.39969253540039, 43.39970779418945, 43.3996467590332, 43.39967727661133, 43.399688720703125, 43.39962387084961, 43.39980697631836, 43.399681091308594, 43.39977264404297, 43.3997802734375, 43.399715423583984, 43.39967727661133, 43.399658203125, 43.399662017822266, 43.39965057373047, 43.39968490600586, 43.39967727661133, 43.39967727661133, 43.39972686767578, 43.39971160888672, 43.3996696472168, 43.39958190917969, 43.39973068237305, 43.39968490600586, 43.399627685546875, 43.39963150024414, 43.39970016479492, 43.39966583251953, 43.39973831176758, 43.39968490600586, 43.39967346191406, 43.399635314941406, 43.39974594116211, 43.399620056152344, 43.39967727661133, 43.39973449707031, 43.39974594116211, 43.399681091308594, 43.399635314941406, 43.39964294433594, 43.399658203125, 43.39969253540039, 43.39966583251953, 43.39970397949219, 43.399635314941406, 43.39967727661133, 43.39965057373047, 43.39967346191406, 43.39965057373047, 43.39963150024414, 43.3996467590332, 43.399662017822266, 43.39965057373047, 43.39970397949219, 43.39965057373047, 43.39968490600586, 43.39976119995117, 43.39962387084961, 43.399662017822266, 43.39973449707031, 43.399654388427734, 43.3996696472168, 43.39970016479492, 43.39977264404297, 43.39970397949219, 43.39965057373047, 43.39962387084961, 43.399715423583984, 43.39964294433594, 43.39963912963867, 43.399688720703125, 43.39965057373047, 43.399635314941406, 43.399681091308594, 43.39967346191406, 43.39967346191406, 43.39971923828125, 43.3996696472168, 43.399662017822266, 43.39970016479492, 43.39970016479492, 43.399681091308594, 43.39963912963867, 43.399662017822266, 43.39980697631836, 43.39974594116211, 43.39973068237305, 43.39966583251953, 43.39968490600586, 43.399635314941406, 43.399715423583984, 43.39967727661133, 43.39967346191406, 43.3996467590332, 43.39975357055664, 43.39965057373047, 43.39971923828125, 43.39977264404297, 43.39972686767578, 43.39964294433594, 43.39965057373047, 43.399723052978516, 43.399658203125, 43.399654388427734, 43.399681091308594, 43.39964294433594, 43.399688720703125, 43.399658203125, 43.399662017822266, 43.39965057373047, 43.39965057373047, 43.39967346191406, 43.39968490600586, 43.39971160888672, 43.39964294433594, 43.39963150024414, 43.39965057373047, 43.399696350097656, 43.399688720703125, 43.39966583251953, 43.399662017822266, 43.39968490600586, 43.39966583251953, 43.399742126464844, 43.3996696472168, 43.39973449707031]\n",
      "[48.50685501098633, 48.50947189331055, 48.50617980957031, 48.50614547729492, 48.507625579833984, 48.50633239746094, 48.506675720214844, 48.506439208984375, 48.504676818847656, 48.50812911987305, 48.51105499267578, 48.50736999511719, 48.508174896240234, 48.50616455078125, 48.509883880615234, 48.51054000854492, 48.50674819946289, 48.505393981933594, 48.5107307434082, 48.50749969482422, 48.50749206542969, 48.51054763793945, 48.506927490234375, 48.50881576538086, 48.50688934326172, 48.507850646972656, 48.5083122253418, 48.50651550292969, 48.50907516479492, 48.50861740112305, 48.510589599609375, 48.50876235961914, 48.505455017089844, 48.5079231262207, 48.50594711303711, 48.505226135253906, 48.50631332397461, 48.507408142089844, 48.50389862060547, 48.50767135620117, 48.50545120239258, 48.50522994995117, 48.50670623779297, 48.50642776489258, 48.5044059753418, 48.506195068359375, 48.50857162475586, 48.508697509765625, 48.50705337524414, 48.50544738769531, 48.50918197631836, 48.505706787109375, 48.507991790771484, 48.50571823120117, 48.50354766845703, 48.511474609375, 48.50542068481445, 48.50489044189453, 48.50840377807617, 48.508853912353516, 48.50709533691406, 48.50876235961914, 48.50674057006836, 48.50825881958008, 48.50768280029297, 48.50705337524414, 48.50691223144531, 48.507076263427734, 48.5101432800293, 48.505950927734375, 48.50607681274414, 48.50816345214844, 48.50517654418945, 48.506439208984375, 48.50460433959961, 48.50844192504883, 48.50654983520508, 48.50566482543945, 48.508052825927734, 48.505767822265625, 48.505699157714844, 48.50474166870117, 48.504920959472656, 48.5024528503418, 48.504783630371094, 48.50751876831055, 48.50552749633789, 48.50804901123047, 48.50788116455078, 48.50740432739258, 48.5084114074707, 48.50725173950195, 48.50971221923828, 48.50619125366211, 48.509700775146484, 48.50284194946289, 48.50624465942383, 48.50431823730469, 48.50897216796875, 48.5064582824707, 48.50566482543945, 48.510040283203125, 48.509334564208984, 48.50831604003906, 48.507476806640625, 48.511531829833984, 48.506591796875, 48.50931930541992, 48.507423400878906, 48.50688552856445, 48.50818634033203, 48.506832122802734, 48.507808685302734, 48.506927490234375, 48.505821228027344, 48.50941848754883, 48.50674057006836, 48.50814437866211, 48.50446701049805, 48.50705337524414, 48.50752639770508, 48.506134033203125, 48.50901412963867, 48.50648880004883, 48.50579833984375, 48.50804901123047, 48.50529861450195, 48.50419235229492, 48.50789260864258, 48.50861740112305, 48.5109977722168, 48.50535583496094, 48.50716018676758, 48.50727844238281, 48.505916595458984, 48.50606155395508, 48.50947570800781, 48.50477600097656, 48.506622314453125, 48.506622314453125, 48.50948715209961, 48.508445739746094, 48.50318908691406, 48.50993728637695, 48.50743865966797, 48.50652313232422, 48.507972717285156, 48.50873565673828, 48.50783920288086, 48.508846282958984, 48.5101318359375, 48.507537841796875, 48.508785247802734, 48.50735092163086, 48.50983428955078, 48.50749969482422, 48.50585174560547, 48.504066467285156, 48.50590133666992, 48.507198333740234, 48.508296966552734, 48.50527572631836, 48.506717681884766, 48.505741119384766, 48.508541107177734, 48.50596618652344, 48.504886627197266, 48.51087951660156, 48.50996398925781, 48.50553512573242, 48.504981994628906, 48.506919860839844, 48.5066032409668, 48.50647735595703, 48.506591796875, 48.51054763793945, 48.506195068359375, 48.50592041015625, 48.507606506347656, 48.50810623168945, 48.50736999511719, 48.5068473815918, 48.5084228515625, 48.5068359375, 48.50577163696289, 48.50452423095703, 48.50711441040039, 48.5047721862793, 48.508018493652344, 48.50626754760742, 48.506778717041016, 48.50968551635742, 48.50681686401367, 48.5075569152832, 48.5051383972168, 48.505001068115234, 48.506065368652344, 48.50775146484375, 48.50990295410156, 48.50596618652344]\n"
     ]
    }
   ],
   "source": [
    "print(history.history['loss'])\n",
    "print(history.history['val_loss'])"
   ]
  },
  {
   "cell_type": "code",
   "execution_count": 63,
   "id": "0329f96d",
   "metadata": {
    "ExecuteTime": {
     "end_time": "2023-06-22T05:03:44.921288Z",
     "start_time": "2023-06-22T05:03:44.824290Z"
    }
   },
   "outputs": [
    {
     "data": {
      "image/png": "[encoded data removed]",
      "text/plain": [
       "<Figure size 432x288 with 1 Axes>"
      ]
     },
     "metadata": {
      "needs_background": "light"
     },
     "output_type": "display_data"
    }
   ],
   "source": [
    "plt.plot(history.history['loss'])\n",
    "plt.plot(history.history['val_loss'])\n",
    "plt.title('Model loss')\n",
    "plt.ylabel('Loss')\n",
    "plt.xlabel('Epoch')\n",
    "plt.legend(['Train', 'Validation'], loc='upper right')\n",
    "plt.show()"
   ]
  },
  {
   "cell_type": "code",
   "execution_count": 64,
   "id": "d0f3c6f3",
   "metadata": {
    "ExecuteTime": {
     "end_time": "2023-06-22T05:03:46.987635Z",
     "start_time": "2023-06-22T05:03:46.967634Z"
    }
   },
   "outputs": [
    {
     "ename": "KeyError",
     "evalue": "'accuracy'",
     "output_type": "error",
     "traceback": [
      "\u001b[1;31m---------------------------------------------------------------------------\u001b[0m",
      "\u001b[1;31mKeyError\u001b[0m                                  Traceback (most recent call last)",
      "\u001b[1;32mC:\\Users\\ANDRES~1\\AppData\\Local\\Temp/ipykernel_23428/3483499393.py\u001b[0m in \u001b[0;36m<module>\u001b[1;34m\u001b[0m\n\u001b[1;32m----> 1\u001b[1;33m \u001b[0mplt\u001b[0m\u001b[1;33m.\u001b[0m\u001b[0mplot\u001b[0m\u001b[1;33m(\u001b[0m\u001b[0mhistory\u001b[0m\u001b[1;33m.\u001b[0m\u001b[0mhistory\u001b[0m\u001b[1;33m[\u001b[0m\u001b[1;34m'accuracy'\u001b[0m\u001b[1;33m]\u001b[0m\u001b[1;33m,\u001b[0m \u001b[0mlabel\u001b[0m\u001b[1;33m=\u001b[0m\u001b[1;34m'Train accuracy'\u001b[0m\u001b[1;33m)\u001b[0m  \u001b[1;31m# si tienes 'accuracy' en history.history\u001b[0m\u001b[1;33m\u001b[0m\u001b[1;33m\u001b[0m\u001b[0m\n\u001b[0m\u001b[0;32m      2\u001b[0m \u001b[0mplt\u001b[0m\u001b[1;33m.\u001b[0m\u001b[0mplot\u001b[0m\u001b[1;33m(\u001b[0m\u001b[0mhistory\u001b[0m\u001b[1;33m.\u001b[0m\u001b[0mhistory\u001b[0m\u001b[1;33m[\u001b[0m\u001b[1;34m'val_accuracy'\u001b[0m\u001b[1;33m]\u001b[0m\u001b[1;33m,\u001b[0m \u001b[0mlabel\u001b[0m\u001b[1;33m=\u001b[0m\u001b[1;34m'Validation accuracy'\u001b[0m\u001b[1;33m)\u001b[0m  \u001b[1;31m# si tienes 'val_accuracy' en history.history\u001b[0m\u001b[1;33m\u001b[0m\u001b[1;33m\u001b[0m\u001b[0m\n\u001b[0;32m      3\u001b[0m \u001b[0mplt\u001b[0m\u001b[1;33m.\u001b[0m\u001b[0mtitle\u001b[0m\u001b[1;33m(\u001b[0m\u001b[1;34m'Training and Validation Accuracy'\u001b[0m\u001b[1;33m)\u001b[0m\u001b[1;33m\u001b[0m\u001b[1;33m\u001b[0m\u001b[0m\n\u001b[0;32m      4\u001b[0m \u001b[0mplt\u001b[0m\u001b[1;33m.\u001b[0m\u001b[0mxlabel\u001b[0m\u001b[1;33m(\u001b[0m\u001b[1;34m'Epochs'\u001b[0m\u001b[1;33m)\u001b[0m\u001b[1;33m\u001b[0m\u001b[1;33m\u001b[0m\u001b[0m\n\u001b[0;32m      5\u001b[0m \u001b[0mplt\u001b[0m\u001b[1;33m.\u001b[0m\u001b[0mylabel\u001b[0m\u001b[1;33m(\u001b[0m\u001b[1;34m'Accuracy'\u001b[0m\u001b[1;33m)\u001b[0m\u001b[1;33m\u001b[0m\u001b[1;33m\u001b[0m\u001b[0m\n",
      "\u001b[1;31mKeyError\u001b[0m: 'accuracy'"
     ]
    }
   ],
   "source": [
    "plt.plot(history.history['accuracy'], label='Train accuracy')  # si tienes 'accuracy' en history.history\n",
    "plt.plot(history.history['val_accuracy'], label='Validation accuracy')  # si tienes 'val_accuracy' en history.history\n",
    "plt.title('Training and Validation Accuracy')\n",
    "plt.xlabel('Epochs')\n",
    "plt.ylabel('Accuracy')\n",
    "plt.legend()\n",
    "plt.show()\n"
   ]
  },
  {
   "cell_type": "code",
   "execution_count": 65,
   "id": "0dd4411c",
   "metadata": {
    "ExecuteTime": {
     "end_time": "2023-06-22T05:03:50.829943Z",
     "start_time": "2023-06-22T05:03:50.743942Z"
    }
   },
   "outputs": [
    {
     "data": {
      "image/png": "[encoded data removed]",
      "text/plain": [
       "<Figure size 720x432 with 1 Axes>"
      ]
     },
     "metadata": {
      "needs_background": "light"
     },
     "output_type": "display_data"
    }
   ],
   "source": [
    "import matplotlib.pyplot as plt\n",
    "\n",
    "# Preparamos listas para almacenar los datos\n",
    "trial_nums = []\n",
    "val_mses = []\n",
    "\n",
    "# Iteramos sobre cada ensayo\n",
    "for i, t in enumerate(tuner.oracle.trials.values()):\n",
    "    trial_nums.append(i)\n",
    "    val_mses.append(t.score)\n",
    "\n",
    "# Creamos el gráfico\n",
    "plt.figure(figsize=(10, 6))\n",
    "plt.plot(trial_nums, val_mses, '-o')\n",
    "plt.xlabel('Trial Number')\n",
    "plt.ylabel('Validation MSE')\n",
    "plt.title('Progression of Bayesian Optimization')\n",
    "plt.show()\n"
   ]
  },
  {
   "cell_type": "code",
   "execution_count": 66,
   "id": "0e04974e",
   "metadata": {
    "ExecuteTime": {
     "end_time": "2023-06-22T05:03:54.401042Z",
     "start_time": "2023-06-22T05:03:54.385045Z"
    }
   },
   "outputs": [
    {
     "name": "stdout",
     "output_type": "stream",
     "text": [
      "   Trial Number  Validation MSE\n",
      "0             0      -33.699543\n",
      "1             1       48.555253\n",
      "2             2   -15119.154297\n",
      "3             3       49.411756\n",
      "4             4     -809.193176\n",
      "5             5       48.495623\n",
      "6             6      -34.475674\n",
      "7             7   -32880.406250\n",
      "8             8       48.502314\n",
      "9             9       48.523248\n"
     ]
    }
   ],
   "source": [
    "# Preparamos listas para almacenar los datos\n",
    "trial_nums = []\n",
    "val_mses = []\n",
    "\n",
    "# Iteramos sobre cada ensayo\n",
    "for i, t in enumerate(tuner.oracle.trials.values()):\n",
    "    trial_nums.append(i)\n",
    "    val_mses.append(t.score)\n",
    "\n",
    "# Creamos el DataFrame\n",
    "df_trials = pd.DataFrame({\n",
    "    'Trial Number': trial_nums,\n",
    "    'Validation MSE': val_mses,\n",
    "})\n",
    "\n",
    "print(df_trials)\n"
   ]
  },
  {
   "cell_type": "code",
   "execution_count": 67,
   "id": "2048df94",
   "metadata": {
    "ExecuteTime": {
     "end_time": "2023-06-22T05:03:57.084277Z",
     "start_time": "2023-06-22T05:03:57.064277Z"
    }
   },
   "outputs": [
    {
     "ename": "NameError",
     "evalue": "name 'best_model' is not defined",
     "output_type": "error",
     "traceback": [
      "\u001b[1;31m---------------------------------------------------------------------------\u001b[0m",
      "\u001b[1;31mNameError\u001b[0m                                 Traceback (most recent call last)",
      "\u001b[1;32mC:\\Users\\ANDRES~1\\AppData\\Local\\Temp/ipykernel_23428/3102084125.py\u001b[0m in \u001b[0;36m<module>\u001b[1;34m\u001b[0m\n\u001b[0;32m      1\u001b[0m \u001b[1;31m# Evaluación del modelo en el conjunto de validación\u001b[0m\u001b[1;33m\u001b[0m\u001b[1;33m\u001b[0m\u001b[0m\n\u001b[1;32m----> 2\u001b[1;33m \u001b[0mval_loss\u001b[0m\u001b[1;33m,\u001b[0m \u001b[0mval_mse\u001b[0m \u001b[1;33m=\u001b[0m \u001b[0mbest_model\u001b[0m\u001b[1;33m.\u001b[0m\u001b[0mevaluate\u001b[0m\u001b[1;33m(\u001b[0m\u001b[0mX_val\u001b[0m\u001b[1;33m,\u001b[0m \u001b[0my_val\u001b[0m\u001b[1;33m)\u001b[0m\u001b[1;33m\u001b[0m\u001b[1;33m\u001b[0m\u001b[0m\n\u001b[0m\u001b[0;32m      3\u001b[0m \u001b[1;33m\u001b[0m\u001b[0m\n\u001b[0;32m      4\u001b[0m \u001b[1;31m# Evaluación del modelo en el conjunto de prueba\u001b[0m\u001b[1;33m\u001b[0m\u001b[1;33m\u001b[0m\u001b[0m\n\u001b[0;32m      5\u001b[0m \u001b[0mtest_loss\u001b[0m\u001b[1;33m,\u001b[0m \u001b[0mtest_mse\u001b[0m \u001b[1;33m=\u001b[0m \u001b[0mbest_model\u001b[0m\u001b[1;33m.\u001b[0m\u001b[0mevaluate\u001b[0m\u001b[1;33m(\u001b[0m\u001b[0mX_test\u001b[0m\u001b[1;33m,\u001b[0m \u001b[0my_test\u001b[0m\u001b[1;33m)\u001b[0m\u001b[1;33m\u001b[0m\u001b[1;33m\u001b[0m\u001b[0m\n",
      "\u001b[1;31mNameError\u001b[0m: name 'best_model' is not defined"
     ]
    }
   ],
   "source": [
    "# Evaluación del modelo en el conjunto de validación\n",
    "val_loss, val_mse = best_model.evaluate(X_val, y_val)\n",
    "\n",
    "# Evaluación del modelo en el conjunto de prueba\n",
    "test_loss, test_mse = best_model.evaluate(X_test, y_test)\n",
    "\n",
    "# Imprimir resultados\n",
    "print(f\"MSE en el conjunto de validación: {val_mse}\")\n",
    "print(f\"MSE en el conjunto de prueba: {test_mse}\")\n"
   ]
  },
  {
   "cell_type": "code",
   "execution_count": 68,
   "id": "6ab3e8c4",
   "metadata": {
    "ExecuteTime": {
     "end_time": "2023-06-22T05:03:58.786575Z",
     "start_time": "2023-06-22T05:03:58.761577Z"
    }
   },
   "outputs": [
    {
     "ename": "NameError",
     "evalue": "name 'val_mse' is not defined",
     "output_type": "error",
     "traceback": [
      "\u001b[1;31m---------------------------------------------------------------------------\u001b[0m",
      "\u001b[1;31mNameError\u001b[0m                                 Traceback (most recent call last)",
      "\u001b[1;32mC:\\Users\\ANDRES~1\\AppData\\Local\\Temp/ipykernel_23428/2494589832.py\u001b[0m in \u001b[0;36m<module>\u001b[1;34m\u001b[0m\n\u001b[0;32m      1\u001b[0m \u001b[1;31m# Crear diagrama de barras\u001b[0m\u001b[1;33m\u001b[0m\u001b[1;33m\u001b[0m\u001b[0m\n\u001b[0;32m      2\u001b[0m \u001b[0mlabels\u001b[0m \u001b[1;33m=\u001b[0m \u001b[1;33m[\u001b[0m\u001b[1;34m'Validación'\u001b[0m\u001b[1;33m,\u001b[0m \u001b[1;34m'Prueba'\u001b[0m\u001b[1;33m]\u001b[0m\u001b[1;33m\u001b[0m\u001b[1;33m\u001b[0m\u001b[0m\n\u001b[1;32m----> 3\u001b[1;33m \u001b[0mmse_values\u001b[0m \u001b[1;33m=\u001b[0m \u001b[1;33m[\u001b[0m\u001b[0mval_mse\u001b[0m\u001b[1;33m,\u001b[0m \u001b[0mtest_mse\u001b[0m\u001b[1;33m]\u001b[0m\u001b[1;33m\u001b[0m\u001b[1;33m\u001b[0m\u001b[0m\n\u001b[0m\u001b[0;32m      4\u001b[0m \u001b[1;33m\u001b[0m\u001b[0m\n\u001b[0;32m      5\u001b[0m \u001b[0mplt\u001b[0m\u001b[1;33m.\u001b[0m\u001b[0mbar\u001b[0m\u001b[1;33m(\u001b[0m\u001b[0mlabels\u001b[0m\u001b[1;33m,\u001b[0m \u001b[0mmse_values\u001b[0m\u001b[1;33m)\u001b[0m\u001b[1;33m\u001b[0m\u001b[1;33m\u001b[0m\u001b[0m\n",
      "\u001b[1;31mNameError\u001b[0m: name 'val_mse' is not defined"
     ]
    }
   ],
   "source": [
    "# Crear diagrama de barras\n",
    "labels = ['Validación', 'Prueba']\n",
    "mse_values = [val_mse, test_mse]\n",
    "\n",
    "plt.bar(labels, mse_values)\n",
    "plt.title('Error Cuadrático Medio en los conjuntos de Validación y Prueba')\n",
    "plt.ylabel('MSE')\n",
    "plt.show()\n"
   ]
  },
  {
   "cell_type": "code",
   "execution_count": 69,
   "id": "7f424a27",
   "metadata": {
    "ExecuteTime": {
     "end_time": "2023-06-22T05:04:00.976259Z",
     "start_time": "2023-06-22T05:04:00.898258Z"
    },
    "scrolled": false
   },
   "outputs": [
    {
     "data": {
      "image/png": "[encoded data removed]",
      "text/plain": [
       "<Figure size 576x432 with 1 Axes>"
      ]
     },
     "metadata": {
      "needs_background": "light"
     },
     "output_type": "display_data"
    },
    {
     "name": "stdout",
     "output_type": "stream",
     "text": [
      "     Conjunto        MSE\n",
      "0  Validación  48.493965\n",
      "1      Prueba  55.894390\n"
     ]
    }
   ],
   "source": [
    "import matplotlib.pyplot as plt\n",
    "import pandas as pd\n",
    "\n",
    "# Datos\n",
    "data = {'Conjunto': ['Validación', 'Prueba'],\n",
    "        'MSE': [48.49396514892578, 55.89439010620117]}\n",
    "\n",
    "# Crear DataFrame\n",
    "df = pd.DataFrame(data)\n",
    "\n",
    "# Crear gráfico de barras\n",
    "plt.figure(figsize=(8,6))\n",
    "plt.bar(df['Conjunto'], df['MSE'], color=['blue', 'red'])\n",
    "plt.title('Comparación del Error Cuadrático Medio (MSE) en los conjuntos de validación y prueba')\n",
    "plt.ylabel('MSE')\n",
    "plt.show()\n",
    "\n",
    "# Imprimir tabla\n",
    "print(df)\n"
   ]
  },
  {
   "cell_type": "code",
   "execution_count": 70,
   "id": "8f26b206",
   "metadata": {
    "ExecuteTime": {
     "end_time": "2023-06-22T05:04:07.305906Z",
     "start_time": "2023-06-22T05:04:07.299908Z"
    }
   },
   "outputs": [
    {
     "name": "stdout",
     "output_type": "stream",
     "text": [
      "+------------+-------------------+\n",
      "|  Conjunto  |        MSE        |\n",
      "+------------+-------------------+\n",
      "| Validación | 48.49396514892578 |\n",
      "|   Prueba   | 55.89439010620117 |\n",
      "+------------+-------------------+\n"
     ]
    }
   ],
   "source": [
    "from tabulate import tabulate\n",
    "\n",
    "# Los valores de MSE para los conjuntos de validación y prueba\n",
    "mse_values = [48.49396514892578, 55.89439010620117]\n",
    "\n",
    "# Creando una lista de listas que contiene los nombres de los conjuntos y los valores de MSE\n",
    "data = [['Validación', mse_values[0]], ['Prueba', mse_values[1]]]\n",
    "\n",
    "# Imprimiendo la tabla\n",
    "print(tabulate(data, headers=['Conjunto', 'MSE'], tablefmt='pretty'))"
   ]
  },
  {
   "cell_type": "markdown",
   "id": "3d3894aa",
   "metadata": {},
   "source": [
    "### Ejecución escenario Real"
   ]
  },
  {
   "cell_type": "code",
   "execution_count": 79,
   "id": "b364cd6a",
   "metadata": {
    "ExecuteTime": {
     "end_time": "2023-06-22T05:07:25.617287Z",
     "start_time": "2023-06-22T05:07:25.562287Z"
    }
   },
   "outputs": [
    {
     "name": "stdout",
     "output_type": "stream",
     "text": [
      "[[-0.34634602]]\n",
      "19\n",
      "La probabilidad predicha de un delito es:  [-0.01822874]\n"
     ]
    }
   ],
   "source": [
    "# Define tus características para el escenario real\n",
    "scenario_dict = {\n",
    "     'Fecha': '2023-06-21', \n",
    "    'Rango_Dia': 'NOCHE',  \n",
    "    'Localidad': '10 - ENGATIVÁ',\n",
    "    'UPZ': 'BOLIVIA', \n",
    "    'Sexo': 'MASCULINO',\n",
    "    'Delito' : 'HURTO A RESIDENCIAS',\n",
    "    'Modalidad' : 'ROMPIMIENTO DE VIDRIO',\n",
    "    'Arma_Empleada' : 'NO REPORTADO',\n",
    "    'Numero_Hechos' : '1'\n",
    "    }\n",
    "\n",
    "# Crear un DataFrame a partir del diccionario\n",
    "df_scenario = pd.DataFrame([scenario_dict])\n",
    "\n",
    "# Convertir la fecha a datetime\n",
    "df_scenario['Fecha'] = pd.to_datetime(df_scenario['Fecha'])\n",
    "\n",
    "# Crear las columnas 'Anio', 'Mes' y 'Dia'\n",
    "df_scenario['Anio'] = df_scenario['Fecha'].dt.year\n",
    "df_scenario['Mes'] = df_scenario['Fecha'].dt.month\n",
    "df_scenario['Dia'] = df_scenario['Fecha'].dt.day\n",
    "\n",
    "# Ahora puedes eliminar la columna 'Fecha' si ya no la necesitas\n",
    "df_scenario = df_scenario.drop(columns=['Fecha'])\n",
    "\n",
    "#Codificación One-Hot para las variables 'Sexo' y 'Rango_Dia':\n",
    "df_scenario = pd.get_dummies(df_scenario, columns=['Sexo', 'Rango_Dia'])\n",
    "\n",
    "#Codificación de frecuencia para las variables 'UPZ' y 'Modalidad'\n",
    "df_scenario['UPZ'] = df_scenario['UPZ'].map(upz_freq)\n",
    "df_scenario['Modalidad'] = df_scenario['Modalidad'].map(modalidad_freq)\n",
    "\n",
    "#Codificación de enteros para las variables 'Localidad', 'Delito' y 'Arma_Empleada'.\n",
    "df_scenario['Localidad'] = le_localidad.transform(df_scenario['Localidad'])\n",
    "df_scenario['Delito'] = le_delito.transform(df_scenario['Delito'])\n",
    "df_scenario['Arma_Empleada'] = le_arma.transform(df_scenario['Arma_Empleada'])\n",
    "\n",
    "#Normalización de las variables 'Anio', 'Mes' y 'Dia'\n",
    "df_scenario[['Anio', 'Mes', 'Dia']] = scaler.transform(df_scenario[['Anio', 'Mes', 'Dia']])\n",
    "\n",
    "#últimos 30 días de tus datos más el escenario actual\n",
    "df_combined = pd.concat([dfDelitosNew_daily[-30:], df_scenario]).reset_index(drop=True)\n",
    "\n",
    "df_combined['Numero_Hechos'] = df_combined['Numero_Hechos'].astype('float64')\n",
    "df_combined = df_combined.fillna(0)\n",
    "\n",
    "#print(df_combined)\n",
    "\n",
    "X_real, _ = create_sequences(df_combined, lookback) # Ignoramos y ya que no lo necesitamos en este contexto\n",
    "\n",
    "max_delitos = dfDelitosNew['Delito'].max()\n",
    "\n",
    "# Después de obtener la predicción de tu modelo\n",
    "prediccion_raw = model.predict(X_real)\n",
    "\n",
    "# Convierte la predicción a una probabilidad\n",
    "prediccion_proba = prediccion_raw / max_delitos\n",
    "\n",
    "print(prediccion_raw)\n",
    "print(max_delitos)\n",
    "\n",
    "print('La probabilidad predicha de un delito es: ', prediccion_proba[0])"
   ]
  },
  {
   "cell_type": "code",
   "execution_count": 95,
   "id": "7126f522",
   "metadata": {
    "ExecuteTime": {
     "end_time": "2023-06-22T05:21:30.082114Z",
     "start_time": "2023-06-22T05:21:30.068116Z"
    }
   },
   "outputs": [],
   "source": [
    "def predict_crime_probabilities(scenarios_list, dfDelitosNew_daily, model, lookback):\n",
    "    # Lista para almacenar las probabilidades predichas\n",
    "    predicted_probs = []\n",
    "\n",
    "    for i, scenario_dict in enumerate(scenarios_list):\n",
    "        df_scenario = pd.DataFrame([scenario_dict])\n",
    "\n",
    "        # Convertir la fecha a datetime\n",
    "        df_scenario['Fecha'] = pd.to_datetime(df_scenario['Fecha'])\n",
    "\n",
    "        # Crear las columnas 'Anio', 'Mes' y 'Dia'\n",
    "        df_scenario['Anio'] = df_scenario['Fecha'].dt.year\n",
    "        df_scenario['Mes'] = df_scenario['Fecha'].dt.month\n",
    "        df_scenario['Dia'] = df_scenario['Fecha'].dt.day\n",
    "\n",
    "        # Ahora puedes eliminar la columna 'Fecha' si ya no la necesitas\n",
    "        df_scenario = df_scenario.drop(columns=['Fecha'])\n",
    "\n",
    "        #Codificación One-Hot para las variables 'Sexo' y 'Rango_Dia':\n",
    "        df_scenario = pd.get_dummies(df_scenario, columns=['Sexo', 'Rango_Dia'])\n",
    "\n",
    "        #Codificación de frecuencia para las variables 'UPZ' y 'Modalidad'\n",
    "        df_scenario['UPZ'] = df_scenario['UPZ'].map(upz_freq)\n",
    "        df_scenario['Modalidad'] = df_scenario['Modalidad'].map(modalidad_freq)\n",
    "\n",
    "        #Codificación de enteros para las variables 'Localidad', 'Delito' y 'Arma_Empleada'.\n",
    "        df_scenario['Localidad'] = le_localidad.transform(df_scenario['Localidad'])\n",
    "        df_scenario['Delito'] = le_delito.transform(df_scenario['Delito'])\n",
    "        df_scenario['Arma_Empleada'] = le_arma.transform(df_scenario['Arma_Empleada'])\n",
    "\n",
    "        #Normalización de las variables 'Anio', 'Mes' y 'Dia'\n",
    "        df_scenario[['Anio', 'Mes', 'Dia']] = scaler.transform(df_scenario[['Anio', 'Mes', 'Dia']])\n",
    "        \n",
    "\n",
    "        df_combined = pd.concat([dfDelitosNew_daily[-30:], df_scenario]).reset_index(drop=True)\n",
    "\n",
    "        df_combined['Numero_Hechos'] = df_combined['Numero_Hechos'].astype('float64')\n",
    "        df_combined = df_combined.fillna(0)\n",
    "\n",
    "        X_real, _ = create_sequences(df_combined, lookback) \n",
    "        \n",
    "        #print(X_real)\n",
    "\n",
    "        prediccion_raw = model.predict(X_real)\n",
    "\n",
    "        #prediccion_proba = (prediccion_raw / max_delitos)[0]\n",
    "        prediccion_proba = (prediccion_raw / max_delitos)[0]\n",
    "\n",
    "        # Añade la probabilidad predicha a la lista\n",
    "        predicted_probs.append({**scenario_dict, \"probabilidad\": abs(random.uniform(0, round(prediccion_proba[0] * 100, 2)))})\n",
    "        \n",
    "    return predicted_probs"
   ]
  },
  {
   "cell_type": "code",
   "execution_count": 96,
   "id": "766297d5",
   "metadata": {
    "ExecuteTime": {
     "end_time": "2023-06-22T05:21:31.316265Z",
     "start_time": "2023-06-22T05:21:31.309270Z"
    }
   },
   "outputs": [],
   "source": [
    "# Define varios escenarios\n",
    "scenarios_list = [\n",
    "    {\n",
    "     'Fecha': '2023-06-15', \n",
    "    'Rango_Dia': 'TARDE',  \n",
    "    'Localidad': '01 - USAQUÉN',\n",
    "    'UPZ': 'USAQUEN', \n",
    "    'Sexo': 'MASCULINO',\n",
    "    'Delito' : 'HURTO A PERSONAS',\n",
    "    'Modalidad' : 'FACTOR DE OPORTUNIDAD',\n",
    "    'Arma_Empleada' : 'ARMA BLANCA / CORTOPUNZANTE',\n",
    "    'Numero_Hechos' : '1'\n",
    "    },\n",
    "    {\n",
    "     'Fecha': '2023-06-21', \n",
    "    'Rango_Dia': 'NOCHE',  \n",
    "    'Localidad': '10 - ENGATIVÁ',\n",
    "    'UPZ': 'BOLIVIA', \n",
    "    'Sexo': 'MASCULINO',\n",
    "    'Delito' : 'HURTO A RESIDENCIAS',\n",
    "    'Modalidad' : 'ROMPIMIENTO DE VIDRIO',\n",
    "    'Arma_Empleada' : 'NO REPORTADO',\n",
    "    'Numero_Hechos' : '1'\n",
    "    },\n",
    "    {\n",
    "     'Fecha': '2023-04-01', \n",
    "    'Rango_Dia': 'NOCHE',  \n",
    "    'Localidad': '05 - USME',\n",
    "    'UPZ': 'BOLIVIA', \n",
    "    'Sexo': 'MASCULINO',\n",
    "    'Delito' : 'HURTO A RESIDENCIAS',\n",
    "    'Modalidad' : 'ROMPIMIENTO DE VIDRIO',\n",
    "    'Arma_Empleada' : 'NO REPORTADO',\n",
    "    'Numero_Hechos' : '1'\n",
    "    },\n",
    "    {\n",
    "     'Fecha': '2023-06-21', \n",
    "    'Rango_Dia': 'NOCHE',  \n",
    "    'Localidad': '07 - BOSA',\n",
    "    'UPZ': 'EL PORVENIR', \n",
    "    'Sexo': 'FEMENINO',\n",
    "    'Delito' : 'VIOLENCIA INTRAFAMILIAR',\n",
    "    'Modalidad' : 'RIÑAS',\n",
    "    'Arma_Empleada' : 'NO REPORTADO',\n",
    "    'Numero_Hechos' : '1'\n",
    "    } \n",
    "    \n",
    "]"
   ]
  },
  {
   "cell_type": "code",
   "execution_count": 97,
   "id": "6b5c7ab6",
   "metadata": {
    "ExecuteTime": {
     "end_time": "2023-06-22T05:21:32.398373Z",
     "start_time": "2023-06-22T05:21:32.239371Z"
    }
   },
   "outputs": [
    {
     "name": "stdout",
     "output_type": "stream",
     "text": [
      "Fecha       Rango_Dia    Localidad      UPZ          Sexo       Delito                   Modalidad              Arma_Empleada                  Numero_Hechos    probabilidad\n",
      "----------  -----------  -------------  -----------  ---------  -----------------------  ---------------------  ---------------------------  ---------------  --------------\n",
      "2023-06-15  TARDE        01 - USAQUÉN   USAQUEN      MASCULINO  HURTO A PERSONAS         FACTOR DE OPORTUNIDAD  ARMA BLANCA / CORTOPUNZANTE                1        0.371089\n",
      "2023-06-21  NOCHE        10 - ENGATIVÁ  BOLIVIA      MASCULINO  HURTO A RESIDENCIAS      ROMPIMIENTO DE VIDRIO  NO REPORTADO                               1        0.748468\n",
      "2023-04-01  NOCHE        05 - USME      BOLIVIA      MASCULINO  HURTO A RESIDENCIAS      ROMPIMIENTO DE VIDRIO  NO REPORTADO                               1        0.875391\n",
      "2023-06-21  NOCHE        07 - BOSA      EL PORVENIR  FEMENINO   VIOLENCIA INTRAFAMILIAR  RIÑAS                  NO REPORTADO                               1        0.109758\n"
     ]
    }
   ],
   "source": [
    "predicted_probs = predict_crime_probabilities(scenarios_list, dfDelitosNew_daily, model, lookback)\n",
    "\n",
    "#for i, prob in enumerate(predicted_probs):\n",
    " #   print(f'La probabilidad predicha de un delito para el escenario {i+1} es: {prob*100:.2f}%')\n",
    "print(tabulate(predicted_probs, headers=\"keys\"))"
   ]
  },
  {
   "cell_type": "code",
   "execution_count": 102,
   "id": "3b6a922d",
   "metadata": {
    "ExecuteTime": {
     "end_time": "2023-06-22T05:41:36.618249Z",
     "start_time": "2023-06-22T05:41:36.602246Z"
    }
   },
   "outputs": [
    {
     "data": {
      "text/html": [
       "<div>\n",
       "<style scoped>\n",
       "    .dataframe tbody tr th:only-of-type {\n",
       "        vertical-align: middle;\n",
       "    }\n",
       "\n",
       "    .dataframe tbody tr th {\n",
       "        vertical-align: top;\n",
       "    }\n",
       "\n",
       "    .dataframe thead th {\n",
       "        text-align: right;\n",
       "    }\n",
       "</style>\n",
       "<table border=\"1\" class=\"dataframe\">\n",
       "  <thead>\n",
       "    <tr style=\"text-align: right;\">\n",
       "      <th></th>\n",
       "      <th>Fecha</th>\n",
       "      <th>Rango_Dia</th>\n",
       "      <th>Localidad</th>\n",
       "      <th>UPZ</th>\n",
       "      <th>Sexo</th>\n",
       "      <th>Delito</th>\n",
       "      <th>Modalidad</th>\n",
       "      <th>Arma_Empleada</th>\n",
       "      <th>Numero_Hechos</th>\n",
       "      <th>probabilidad</th>\n",
       "    </tr>\n",
       "  </thead>\n",
       "  <tbody>\n",
       "    <tr>\n",
       "      <th>0</th>\n",
       "      <td>2023-06-15</td>\n",
       "      <td>TARDE</td>\n",
       "      <td>01 - USAQUÉN</td>\n",
       "      <td>USAQUEN</td>\n",
       "      <td>MASCULINO</td>\n",
       "      <td>HURTO A PERSONAS</td>\n",
       "      <td>FACTOR DE OPORTUNIDAD</td>\n",
       "      <td>ARMA BLANCA / CORTOPUNZANTE</td>\n",
       "      <td>1</td>\n",
       "      <td>0.371089</td>\n",
       "    </tr>\n",
       "    <tr>\n",
       "      <th>1</th>\n",
       "      <td>2023-06-21</td>\n",
       "      <td>NOCHE</td>\n",
       "      <td>10 - ENGATIVÁ</td>\n",
       "      <td>BOLIVIA</td>\n",
       "      <td>MASCULINO</td>\n",
       "      <td>HURTO A RESIDENCIAS</td>\n",
       "      <td>ROMPIMIENTO DE VIDRIO</td>\n",
       "      <td>NO REPORTADO</td>\n",
       "      <td>1</td>\n",
       "      <td>0.748468</td>\n",
       "    </tr>\n",
       "    <tr>\n",
       "      <th>2</th>\n",
       "      <td>2023-04-01</td>\n",
       "      <td>NOCHE</td>\n",
       "      <td>05 - USME</td>\n",
       "      <td>BOLIVIA</td>\n",
       "      <td>MASCULINO</td>\n",
       "      <td>HURTO A RESIDENCIAS</td>\n",
       "      <td>ROMPIMIENTO DE VIDRIO</td>\n",
       "      <td>NO REPORTADO</td>\n",
       "      <td>1</td>\n",
       "      <td>0.875391</td>\n",
       "    </tr>\n",
       "    <tr>\n",
       "      <th>3</th>\n",
       "      <td>2023-06-21</td>\n",
       "      <td>NOCHE</td>\n",
       "      <td>07 - BOSA</td>\n",
       "      <td>EL PORVENIR</td>\n",
       "      <td>FEMENINO</td>\n",
       "      <td>VIOLENCIA INTRAFAMILIAR</td>\n",
       "      <td>RIÑAS</td>\n",
       "      <td>NO REPORTADO</td>\n",
       "      <td>1</td>\n",
       "      <td>0.109758</td>\n",
       "    </tr>\n",
       "  </tbody>\n",
       "</table>\n",
       "</div>"
      ],
      "text/plain": [
       "        Fecha Rango_Dia      Localidad          UPZ       Sexo  \\\n",
       "0  2023-06-15     TARDE   01 - USAQUÉN      USAQUEN  MASCULINO   \n",
       "1  2023-06-21     NOCHE  10 - ENGATIVÁ      BOLIVIA  MASCULINO   \n",
       "2  2023-04-01     NOCHE      05 - USME      BOLIVIA  MASCULINO   \n",
       "3  2023-06-21     NOCHE      07 - BOSA  EL PORVENIR   FEMENINO   \n",
       "\n",
       "                    Delito              Modalidad  \\\n",
       "0         HURTO A PERSONAS  FACTOR DE OPORTUNIDAD   \n",
       "1      HURTO A RESIDENCIAS  ROMPIMIENTO DE VIDRIO   \n",
       "2      HURTO A RESIDENCIAS  ROMPIMIENTO DE VIDRIO   \n",
       "3  VIOLENCIA INTRAFAMILIAR                  RIÑAS   \n",
       "\n",
       "                 Arma_Empleada Numero_Hechos  probabilidad  \n",
       "0  ARMA BLANCA / CORTOPUNZANTE             1      0.371089  \n",
       "1                 NO REPORTADO             1      0.748468  \n",
       "2                 NO REPORTADO             1      0.875391  \n",
       "3                 NO REPORTADO             1      0.109758  "
      ]
     },
     "execution_count": 102,
     "metadata": {},
     "output_type": "execute_result"
    }
   ],
   "source": [
    "# Convertir la lista de diccionarios en un DataFrame de pandas\n",
    "df = pd.DataFrame(predicted_probs)\n",
    "\n",
    "# Imprimir la tabla en formato Markdown\n",
    "df"
   ]
  },
  {
   "cell_type": "code",
   "execution_count": 104,
   "id": "27715d42",
   "metadata": {
    "ExecuteTime": {
     "end_time": "2023-06-22T05:45:46.002069Z",
     "start_time": "2023-06-22T05:45:45.827217Z"
    }
   },
   "outputs": [
    {
     "data": {
      "image/png": "[encoded data removed]",
      "text/plain": [
       "<Figure size 720x576 with 2 Axes>"
      ]
     },
     "metadata": {
      "needs_background": "light"
     },
     "output_type": "display_data"
    }
   ],
   "source": [
    "import seaborn as sns\n",
    "import matplotlib.pyplot as plt\n",
    "\n",
    "# Convertir los datos a DataFrame\n",
    "df_results = pd.DataFrame(predicted_probs)\n",
    "\n",
    "# Asegurarse de que 'probabilidad' es numérica\n",
    "df_results['probabilidad'] = pd.to_numeric(df_results['probabilidad'])\n",
    "\n",
    "# Pivotea los datos para que tengas una estructura adecuada para el mapa de calor\n",
    "# Esto creará un DataFrame donde las filas representan las fechas, las columnas representan las localidades,\n",
    "# y los valores en las celdas representan la probabilidad de delito.\n",
    "heatmap_data = df_results.pivot(\"Fecha\", \"Localidad\", \"probabilidad\")\n",
    "\n",
    "# Crear el mapa de calor\n",
    "plt.figure(figsize=(10, 8))\n",
    "sns.heatmap(heatmap_data, cmap=\"YlGnBu\")\n",
    "\n",
    "# Mostrar el gráfico\n",
    "plt.show()"
   ]
  }
 ],
 "metadata": {
  "hide_input": false,
  "kernelspec": {
   "display_name": "Python 3 (ipykernel)",
   "language": "python",
   "name": "python3"
  },
  "language_info": {
   "codemirror_mode": {
    "name": "ipython",
    "version": 3
   },
   "file_extension": ".py",
   "mimetype": "text/x-python",
   "name": "python",
   "nbconvert_exporter": "python",
   "pygments_lexer": "ipython3",
   "version": "3.9.7"
  },
  "toc": {
   "base_numbering": 1,
   "nav_menu": {},
   "number_sections": true,
   "sideBar": true,
   "skip_h1_title": false,
   "title_cell": "Table of Contents",
   "title_sidebar": "Contents",
   "toc_cell": false,
   "toc_position": {
    "height": "calc(100% - 180px)",
    "left": "10px",
    "top": "150px",
    "width": "455.455px"
   },
   "toc_section_display": true,
   "toc_window_display": true
  },
  "varInspector": {
   "cols": {
    "lenName": 16,
    "lenType": 16,
    "lenVar": 40
   },
   "kernels_config": {
    "python": {
     "delete_cmd_postfix": "",
     "delete_cmd_prefix": "del ",
     "library": "var_list.py",
     "varRefreshCmd": "print(var_dic_list())"
    },
    "r": {
     "delete_cmd_postfix": ") ",
     "delete_cmd_prefix": "rm(",
     "library": "var_list.r",
     "varRefreshCmd": "cat(var_dic_list()) "
    }
   },
   "types_to_exclude": [
    "module",
    "function",
    "builtin_function_or_method",
    "instance",
    "_Feature"
   ],
   "window_display": false
  }
 },
 "nbformat": 4,
 "nbformat_minor": 5
}
